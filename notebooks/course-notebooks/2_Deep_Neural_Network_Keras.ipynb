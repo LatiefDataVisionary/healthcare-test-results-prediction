{
  "nbformat": 4,
  "nbformat_minor": 0,
  "metadata": {
    "colab": {
      "provenance": []
    },
    "kernelspec": {
      "name": "python3",
      "display_name": "Python 3"
    },
    "language_info": {
      "name": "python"
    }
  },
  "cells": [
    {
      "cell_type": "markdown",
      "source": [
        "#Data\n",
        "\n",
        "Data yang digunakan merupakan data harga handphone yang dapat diakses melalui link berikut : https://www.kaggle.com/iabhishekofficial/mobile-price-classification"
      ],
      "metadata": {
        "id": "qmu7Hd7OIQ5F"
      }
    },
    {
      "cell_type": "code",
      "source": [
        "import pandas as pd\n",
        "\n",
        "df = pd.read_csv('./train.csv')\n",
        "df.head()"
      ],
      "metadata": {
        "colab": {
          "base_uri": "https://localhost:8080/",
          "height": 270
        },
        "id": "DegAtK349SPM",
        "outputId": "a5178b2d-5ea0-4793-e201-f68789d57ec0"
      },
      "execution_count": null,
      "outputs": [
        {
          "output_type": "execute_result",
          "data": {
            "text/html": [
              "\n",
              "  <div id=\"df-00fcc07c-af30-47d7-90be-78be69ace875\">\n",
              "    <div class=\"colab-df-container\">\n",
              "      <div>\n",
              "<style scoped>\n",
              "    .dataframe tbody tr th:only-of-type {\n",
              "        vertical-align: middle;\n",
              "    }\n",
              "\n",
              "    .dataframe tbody tr th {\n",
              "        vertical-align: top;\n",
              "    }\n",
              "\n",
              "    .dataframe thead th {\n",
              "        text-align: right;\n",
              "    }\n",
              "</style>\n",
              "<table border=\"1\" class=\"dataframe\">\n",
              "  <thead>\n",
              "    <tr style=\"text-align: right;\">\n",
              "      <th></th>\n",
              "      <th>battery_power</th>\n",
              "      <th>blue</th>\n",
              "      <th>clock_speed</th>\n",
              "      <th>dual_sim</th>\n",
              "      <th>fc</th>\n",
              "      <th>four_g</th>\n",
              "      <th>int_memory</th>\n",
              "      <th>m_dep</th>\n",
              "      <th>mobile_wt</th>\n",
              "      <th>n_cores</th>\n",
              "      <th>pc</th>\n",
              "      <th>px_height</th>\n",
              "      <th>px_width</th>\n",
              "      <th>ram</th>\n",
              "      <th>sc_h</th>\n",
              "      <th>sc_w</th>\n",
              "      <th>talk_time</th>\n",
              "      <th>three_g</th>\n",
              "      <th>touch_screen</th>\n",
              "      <th>wifi</th>\n",
              "      <th>price_range</th>\n",
              "    </tr>\n",
              "  </thead>\n",
              "  <tbody>\n",
              "    <tr>\n",
              "      <th>0</th>\n",
              "      <td>842</td>\n",
              "      <td>0</td>\n",
              "      <td>2.2</td>\n",
              "      <td>0</td>\n",
              "      <td>1</td>\n",
              "      <td>0</td>\n",
              "      <td>7</td>\n",
              "      <td>0.6</td>\n",
              "      <td>188</td>\n",
              "      <td>2</td>\n",
              "      <td>2</td>\n",
              "      <td>20</td>\n",
              "      <td>756</td>\n",
              "      <td>2549</td>\n",
              "      <td>9</td>\n",
              "      <td>7</td>\n",
              "      <td>19</td>\n",
              "      <td>0</td>\n",
              "      <td>0</td>\n",
              "      <td>1</td>\n",
              "      <td>1</td>\n",
              "    </tr>\n",
              "    <tr>\n",
              "      <th>1</th>\n",
              "      <td>1021</td>\n",
              "      <td>1</td>\n",
              "      <td>0.5</td>\n",
              "      <td>1</td>\n",
              "      <td>0</td>\n",
              "      <td>1</td>\n",
              "      <td>53</td>\n",
              "      <td>0.7</td>\n",
              "      <td>136</td>\n",
              "      <td>3</td>\n",
              "      <td>6</td>\n",
              "      <td>905</td>\n",
              "      <td>1988</td>\n",
              "      <td>2631</td>\n",
              "      <td>17</td>\n",
              "      <td>3</td>\n",
              "      <td>7</td>\n",
              "      <td>1</td>\n",
              "      <td>1</td>\n",
              "      <td>0</td>\n",
              "      <td>2</td>\n",
              "    </tr>\n",
              "    <tr>\n",
              "      <th>2</th>\n",
              "      <td>563</td>\n",
              "      <td>1</td>\n",
              "      <td>0.5</td>\n",
              "      <td>1</td>\n",
              "      <td>2</td>\n",
              "      <td>1</td>\n",
              "      <td>41</td>\n",
              "      <td>0.9</td>\n",
              "      <td>145</td>\n",
              "      <td>5</td>\n",
              "      <td>6</td>\n",
              "      <td>1263</td>\n",
              "      <td>1716</td>\n",
              "      <td>2603</td>\n",
              "      <td>11</td>\n",
              "      <td>2</td>\n",
              "      <td>9</td>\n",
              "      <td>1</td>\n",
              "      <td>1</td>\n",
              "      <td>0</td>\n",
              "      <td>2</td>\n",
              "    </tr>\n",
              "    <tr>\n",
              "      <th>3</th>\n",
              "      <td>615</td>\n",
              "      <td>1</td>\n",
              "      <td>2.5</td>\n",
              "      <td>0</td>\n",
              "      <td>0</td>\n",
              "      <td>0</td>\n",
              "      <td>10</td>\n",
              "      <td>0.8</td>\n",
              "      <td>131</td>\n",
              "      <td>6</td>\n",
              "      <td>9</td>\n",
              "      <td>1216</td>\n",
              "      <td>1786</td>\n",
              "      <td>2769</td>\n",
              "      <td>16</td>\n",
              "      <td>8</td>\n",
              "      <td>11</td>\n",
              "      <td>1</td>\n",
              "      <td>0</td>\n",
              "      <td>0</td>\n",
              "      <td>2</td>\n",
              "    </tr>\n",
              "    <tr>\n",
              "      <th>4</th>\n",
              "      <td>1821</td>\n",
              "      <td>1</td>\n",
              "      <td>1.2</td>\n",
              "      <td>0</td>\n",
              "      <td>13</td>\n",
              "      <td>1</td>\n",
              "      <td>44</td>\n",
              "      <td>0.6</td>\n",
              "      <td>141</td>\n",
              "      <td>2</td>\n",
              "      <td>14</td>\n",
              "      <td>1208</td>\n",
              "      <td>1212</td>\n",
              "      <td>1411</td>\n",
              "      <td>8</td>\n",
              "      <td>2</td>\n",
              "      <td>15</td>\n",
              "      <td>1</td>\n",
              "      <td>1</td>\n",
              "      <td>0</td>\n",
              "      <td>1</td>\n",
              "    </tr>\n",
              "  </tbody>\n",
              "</table>\n",
              "</div>\n",
              "      <button class=\"colab-df-convert\" onclick=\"convertToInteractive('df-00fcc07c-af30-47d7-90be-78be69ace875')\"\n",
              "              title=\"Convert this dataframe to an interactive table.\"\n",
              "              style=\"display:none;\">\n",
              "        \n",
              "  <svg xmlns=\"http://www.w3.org/2000/svg\" height=\"24px\"viewBox=\"0 0 24 24\"\n",
              "       width=\"24px\">\n",
              "    <path d=\"M0 0h24v24H0V0z\" fill=\"none\"/>\n",
              "    <path d=\"M18.56 5.44l.94 2.06.94-2.06 2.06-.94-2.06-.94-.94-2.06-.94 2.06-2.06.94zm-11 1L8.5 8.5l.94-2.06 2.06-.94-2.06-.94L8.5 2.5l-.94 2.06-2.06.94zm10 10l.94 2.06.94-2.06 2.06-.94-2.06-.94-.94-2.06-.94 2.06-2.06.94z\"/><path d=\"M17.41 7.96l-1.37-1.37c-.4-.4-.92-.59-1.43-.59-.52 0-1.04.2-1.43.59L10.3 9.45l-7.72 7.72c-.78.78-.78 2.05 0 2.83L4 21.41c.39.39.9.59 1.41.59.51 0 1.02-.2 1.41-.59l7.78-7.78 2.81-2.81c.8-.78.8-2.07 0-2.86zM5.41 20L4 18.59l7.72-7.72 1.47 1.35L5.41 20z\"/>\n",
              "  </svg>\n",
              "      </button>\n",
              "      \n",
              "  <style>\n",
              "    .colab-df-container {\n",
              "      display:flex;\n",
              "      flex-wrap:wrap;\n",
              "      gap: 12px;\n",
              "    }\n",
              "\n",
              "    .colab-df-convert {\n",
              "      background-color: #E8F0FE;\n",
              "      border: none;\n",
              "      border-radius: 50%;\n",
              "      cursor: pointer;\n",
              "      display: none;\n",
              "      fill: #1967D2;\n",
              "      height: 32px;\n",
              "      padding: 0 0 0 0;\n",
              "      width: 32px;\n",
              "    }\n",
              "\n",
              "    .colab-df-convert:hover {\n",
              "      background-color: #E2EBFA;\n",
              "      box-shadow: 0px 1px 2px rgba(60, 64, 67, 0.3), 0px 1px 3px 1px rgba(60, 64, 67, 0.15);\n",
              "      fill: #174EA6;\n",
              "    }\n",
              "\n",
              "    [theme=dark] .colab-df-convert {\n",
              "      background-color: #3B4455;\n",
              "      fill: #D2E3FC;\n",
              "    }\n",
              "\n",
              "    [theme=dark] .colab-df-convert:hover {\n",
              "      background-color: #434B5C;\n",
              "      box-shadow: 0px 1px 3px 1px rgba(0, 0, 0, 0.15);\n",
              "      filter: drop-shadow(0px 1px 2px rgba(0, 0, 0, 0.3));\n",
              "      fill: #FFFFFF;\n",
              "    }\n",
              "  </style>\n",
              "\n",
              "      <script>\n",
              "        const buttonEl =\n",
              "          document.querySelector('#df-00fcc07c-af30-47d7-90be-78be69ace875 button.colab-df-convert');\n",
              "        buttonEl.style.display =\n",
              "          google.colab.kernel.accessAllowed ? 'block' : 'none';\n",
              "\n",
              "        async function convertToInteractive(key) {\n",
              "          const element = document.querySelector('#df-00fcc07c-af30-47d7-90be-78be69ace875');\n",
              "          const dataTable =\n",
              "            await google.colab.kernel.invokeFunction('convertToInteractive',\n",
              "                                                     [key], {});\n",
              "          if (!dataTable) return;\n",
              "\n",
              "          const docLinkHtml = 'Like what you see? Visit the ' +\n",
              "            '<a target=\"_blank\" href=https://colab.research.google.com/notebooks/data_table.ipynb>data table notebook</a>'\n",
              "            + ' to learn more about interactive tables.';\n",
              "          element.innerHTML = '';\n",
              "          dataTable['output_type'] = 'display_data';\n",
              "          await google.colab.output.renderOutput(dataTable, element);\n",
              "          const docLink = document.createElement('div');\n",
              "          docLink.innerHTML = docLinkHtml;\n",
              "          element.appendChild(docLink);\n",
              "        }\n",
              "      </script>\n",
              "    </div>\n",
              "  </div>\n",
              "  "
            ],
            "text/plain": [
              "   battery_power  blue  clock_speed  ...  touch_screen  wifi  price_range\n",
              "0            842     0          2.2  ...             0     1            1\n",
              "1           1021     1          0.5  ...             1     0            2\n",
              "2            563     1          0.5  ...             1     0            2\n",
              "3            615     1          2.5  ...             0     0            2\n",
              "4           1821     1          1.2  ...             1     0            1\n",
              "\n",
              "[5 rows x 21 columns]"
            ]
          },
          "metadata": {},
          "execution_count": 1
        }
      ]
    },
    {
      "cell_type": "code",
      "source": [
        "df.shape"
      ],
      "metadata": {
        "colab": {
          "base_uri": "https://localhost:8080/"
        },
        "id": "NPpxZRHtIRzU",
        "outputId": "3d8b6bdf-6097-4b0f-bfb5-b43bef3c7f80"
      },
      "execution_count": null,
      "outputs": [
        {
          "output_type": "execute_result",
          "data": {
            "text/plain": [
              "(2000, 21)"
            ]
          },
          "metadata": {},
          "execution_count": 2
        }
      ]
    },
    {
      "cell_type": "code",
      "source": [
        "df['price_range'].unique()"
      ],
      "metadata": {
        "colab": {
          "base_uri": "https://localhost:8080/"
        },
        "id": "xpnPNXuxPcZG",
        "outputId": "b232d641-0391-4db2-9f8a-0d4908a4ca4b"
      },
      "execution_count": null,
      "outputs": [
        {
          "output_type": "execute_result",
          "data": {
            "text/plain": [
              "array([1, 2, 3, 0])"
            ]
          },
          "metadata": {},
          "execution_count": 3
        }
      ]
    },
    {
      "cell_type": "markdown",
      "source": [
        "0(low cost), 1(medium cost), 2(high cost) and 3(very high cost)."
      ],
      "metadata": {
        "id": "sxVzDEpfQXmf"
      }
    },
    {
      "cell_type": "code",
      "source": [
        "df.info()"
      ],
      "metadata": {
        "colab": {
          "base_uri": "https://localhost:8080/"
        },
        "id": "M5L5DGm3OAxk",
        "outputId": "cb80cb41-7ab8-4002-add2-063d638742ee"
      },
      "execution_count": null,
      "outputs": [
        {
          "output_type": "stream",
          "name": "stdout",
          "text": [
            "<class 'pandas.core.frame.DataFrame'>\n",
            "RangeIndex: 2000 entries, 0 to 1999\n",
            "Data columns (total 21 columns):\n",
            " #   Column         Non-Null Count  Dtype  \n",
            "---  ------         --------------  -----  \n",
            " 0   battery_power  2000 non-null   int64  \n",
            " 1   blue           2000 non-null   int64  \n",
            " 2   clock_speed    2000 non-null   float64\n",
            " 3   dual_sim       2000 non-null   int64  \n",
            " 4   fc             2000 non-null   int64  \n",
            " 5   four_g         2000 non-null   int64  \n",
            " 6   int_memory     2000 non-null   int64  \n",
            " 7   m_dep          2000 non-null   float64\n",
            " 8   mobile_wt      2000 non-null   int64  \n",
            " 9   n_cores        2000 non-null   int64  \n",
            " 10  pc             2000 non-null   int64  \n",
            " 11  px_height      2000 non-null   int64  \n",
            " 12  px_width       2000 non-null   int64  \n",
            " 13  ram            2000 non-null   int64  \n",
            " 14  sc_h           2000 non-null   int64  \n",
            " 15  sc_w           2000 non-null   int64  \n",
            " 16  talk_time      2000 non-null   int64  \n",
            " 17  three_g        2000 non-null   int64  \n",
            " 18  touch_screen   2000 non-null   int64  \n",
            " 19  wifi           2000 non-null   int64  \n",
            " 20  price_range    2000 non-null   int64  \n",
            "dtypes: float64(2), int64(19)\n",
            "memory usage: 328.2 KB\n"
          ]
        }
      ]
    },
    {
      "cell_type": "code",
      "source": [
        "df.describe()"
      ],
      "metadata": {
        "colab": {
          "base_uri": "https://localhost:8080/",
          "height": 364
        },
        "id": "wDAOBE9gOJGh",
        "outputId": "13ad943b-73ea-4cb7-9240-d8908bc7cb3b"
      },
      "execution_count": null,
      "outputs": [
        {
          "output_type": "execute_result",
          "data": {
            "text/html": [
              "\n",
              "  <div id=\"df-e0f9a720-2316-4360-9730-affd72e3667d\">\n",
              "    <div class=\"colab-df-container\">\n",
              "      <div>\n",
              "<style scoped>\n",
              "    .dataframe tbody tr th:only-of-type {\n",
              "        vertical-align: middle;\n",
              "    }\n",
              "\n",
              "    .dataframe tbody tr th {\n",
              "        vertical-align: top;\n",
              "    }\n",
              "\n",
              "    .dataframe thead th {\n",
              "        text-align: right;\n",
              "    }\n",
              "</style>\n",
              "<table border=\"1\" class=\"dataframe\">\n",
              "  <thead>\n",
              "    <tr style=\"text-align: right;\">\n",
              "      <th></th>\n",
              "      <th>battery_power</th>\n",
              "      <th>blue</th>\n",
              "      <th>clock_speed</th>\n",
              "      <th>dual_sim</th>\n",
              "      <th>fc</th>\n",
              "      <th>four_g</th>\n",
              "      <th>int_memory</th>\n",
              "      <th>m_dep</th>\n",
              "      <th>mobile_wt</th>\n",
              "      <th>n_cores</th>\n",
              "      <th>pc</th>\n",
              "      <th>px_height</th>\n",
              "      <th>px_width</th>\n",
              "      <th>ram</th>\n",
              "      <th>sc_h</th>\n",
              "      <th>sc_w</th>\n",
              "      <th>talk_time</th>\n",
              "      <th>three_g</th>\n",
              "      <th>touch_screen</th>\n",
              "      <th>wifi</th>\n",
              "      <th>price_range</th>\n",
              "    </tr>\n",
              "  </thead>\n",
              "  <tbody>\n",
              "    <tr>\n",
              "      <th>count</th>\n",
              "      <td>2000.000000</td>\n",
              "      <td>2000.0000</td>\n",
              "      <td>2000.000000</td>\n",
              "      <td>2000.000000</td>\n",
              "      <td>2000.000000</td>\n",
              "      <td>2000.000000</td>\n",
              "      <td>2000.000000</td>\n",
              "      <td>2000.000000</td>\n",
              "      <td>2000.000000</td>\n",
              "      <td>2000.000000</td>\n",
              "      <td>2000.000000</td>\n",
              "      <td>2000.000000</td>\n",
              "      <td>2000.000000</td>\n",
              "      <td>2000.000000</td>\n",
              "      <td>2000.000000</td>\n",
              "      <td>2000.000000</td>\n",
              "      <td>2000.000000</td>\n",
              "      <td>2000.000000</td>\n",
              "      <td>2000.000000</td>\n",
              "      <td>2000.000000</td>\n",
              "      <td>2000.000000</td>\n",
              "    </tr>\n",
              "    <tr>\n",
              "      <th>mean</th>\n",
              "      <td>1238.518500</td>\n",
              "      <td>0.4950</td>\n",
              "      <td>1.522250</td>\n",
              "      <td>0.509500</td>\n",
              "      <td>4.309500</td>\n",
              "      <td>0.521500</td>\n",
              "      <td>32.046500</td>\n",
              "      <td>0.501750</td>\n",
              "      <td>140.249000</td>\n",
              "      <td>4.520500</td>\n",
              "      <td>9.916500</td>\n",
              "      <td>645.108000</td>\n",
              "      <td>1251.515500</td>\n",
              "      <td>2124.213000</td>\n",
              "      <td>12.306500</td>\n",
              "      <td>5.767000</td>\n",
              "      <td>11.011000</td>\n",
              "      <td>0.761500</td>\n",
              "      <td>0.503000</td>\n",
              "      <td>0.507000</td>\n",
              "      <td>1.500000</td>\n",
              "    </tr>\n",
              "    <tr>\n",
              "      <th>std</th>\n",
              "      <td>439.418206</td>\n",
              "      <td>0.5001</td>\n",
              "      <td>0.816004</td>\n",
              "      <td>0.500035</td>\n",
              "      <td>4.341444</td>\n",
              "      <td>0.499662</td>\n",
              "      <td>18.145715</td>\n",
              "      <td>0.288416</td>\n",
              "      <td>35.399655</td>\n",
              "      <td>2.287837</td>\n",
              "      <td>6.064315</td>\n",
              "      <td>443.780811</td>\n",
              "      <td>432.199447</td>\n",
              "      <td>1084.732044</td>\n",
              "      <td>4.213245</td>\n",
              "      <td>4.356398</td>\n",
              "      <td>5.463955</td>\n",
              "      <td>0.426273</td>\n",
              "      <td>0.500116</td>\n",
              "      <td>0.500076</td>\n",
              "      <td>1.118314</td>\n",
              "    </tr>\n",
              "    <tr>\n",
              "      <th>min</th>\n",
              "      <td>501.000000</td>\n",
              "      <td>0.0000</td>\n",
              "      <td>0.500000</td>\n",
              "      <td>0.000000</td>\n",
              "      <td>0.000000</td>\n",
              "      <td>0.000000</td>\n",
              "      <td>2.000000</td>\n",
              "      <td>0.100000</td>\n",
              "      <td>80.000000</td>\n",
              "      <td>1.000000</td>\n",
              "      <td>0.000000</td>\n",
              "      <td>0.000000</td>\n",
              "      <td>500.000000</td>\n",
              "      <td>256.000000</td>\n",
              "      <td>5.000000</td>\n",
              "      <td>0.000000</td>\n",
              "      <td>2.000000</td>\n",
              "      <td>0.000000</td>\n",
              "      <td>0.000000</td>\n",
              "      <td>0.000000</td>\n",
              "      <td>0.000000</td>\n",
              "    </tr>\n",
              "    <tr>\n",
              "      <th>25%</th>\n",
              "      <td>851.750000</td>\n",
              "      <td>0.0000</td>\n",
              "      <td>0.700000</td>\n",
              "      <td>0.000000</td>\n",
              "      <td>1.000000</td>\n",
              "      <td>0.000000</td>\n",
              "      <td>16.000000</td>\n",
              "      <td>0.200000</td>\n",
              "      <td>109.000000</td>\n",
              "      <td>3.000000</td>\n",
              "      <td>5.000000</td>\n",
              "      <td>282.750000</td>\n",
              "      <td>874.750000</td>\n",
              "      <td>1207.500000</td>\n",
              "      <td>9.000000</td>\n",
              "      <td>2.000000</td>\n",
              "      <td>6.000000</td>\n",
              "      <td>1.000000</td>\n",
              "      <td>0.000000</td>\n",
              "      <td>0.000000</td>\n",
              "      <td>0.750000</td>\n",
              "    </tr>\n",
              "    <tr>\n",
              "      <th>50%</th>\n",
              "      <td>1226.000000</td>\n",
              "      <td>0.0000</td>\n",
              "      <td>1.500000</td>\n",
              "      <td>1.000000</td>\n",
              "      <td>3.000000</td>\n",
              "      <td>1.000000</td>\n",
              "      <td>32.000000</td>\n",
              "      <td>0.500000</td>\n",
              "      <td>141.000000</td>\n",
              "      <td>4.000000</td>\n",
              "      <td>10.000000</td>\n",
              "      <td>564.000000</td>\n",
              "      <td>1247.000000</td>\n",
              "      <td>2146.500000</td>\n",
              "      <td>12.000000</td>\n",
              "      <td>5.000000</td>\n",
              "      <td>11.000000</td>\n",
              "      <td>1.000000</td>\n",
              "      <td>1.000000</td>\n",
              "      <td>1.000000</td>\n",
              "      <td>1.500000</td>\n",
              "    </tr>\n",
              "    <tr>\n",
              "      <th>75%</th>\n",
              "      <td>1615.250000</td>\n",
              "      <td>1.0000</td>\n",
              "      <td>2.200000</td>\n",
              "      <td>1.000000</td>\n",
              "      <td>7.000000</td>\n",
              "      <td>1.000000</td>\n",
              "      <td>48.000000</td>\n",
              "      <td>0.800000</td>\n",
              "      <td>170.000000</td>\n",
              "      <td>7.000000</td>\n",
              "      <td>15.000000</td>\n",
              "      <td>947.250000</td>\n",
              "      <td>1633.000000</td>\n",
              "      <td>3064.500000</td>\n",
              "      <td>16.000000</td>\n",
              "      <td>9.000000</td>\n",
              "      <td>16.000000</td>\n",
              "      <td>1.000000</td>\n",
              "      <td>1.000000</td>\n",
              "      <td>1.000000</td>\n",
              "      <td>2.250000</td>\n",
              "    </tr>\n",
              "    <tr>\n",
              "      <th>max</th>\n",
              "      <td>1998.000000</td>\n",
              "      <td>1.0000</td>\n",
              "      <td>3.000000</td>\n",
              "      <td>1.000000</td>\n",
              "      <td>19.000000</td>\n",
              "      <td>1.000000</td>\n",
              "      <td>64.000000</td>\n",
              "      <td>1.000000</td>\n",
              "      <td>200.000000</td>\n",
              "      <td>8.000000</td>\n",
              "      <td>20.000000</td>\n",
              "      <td>1960.000000</td>\n",
              "      <td>1998.000000</td>\n",
              "      <td>3998.000000</td>\n",
              "      <td>19.000000</td>\n",
              "      <td>18.000000</td>\n",
              "      <td>20.000000</td>\n",
              "      <td>1.000000</td>\n",
              "      <td>1.000000</td>\n",
              "      <td>1.000000</td>\n",
              "      <td>3.000000</td>\n",
              "    </tr>\n",
              "  </tbody>\n",
              "</table>\n",
              "</div>\n",
              "      <button class=\"colab-df-convert\" onclick=\"convertToInteractive('df-e0f9a720-2316-4360-9730-affd72e3667d')\"\n",
              "              title=\"Convert this dataframe to an interactive table.\"\n",
              "              style=\"display:none;\">\n",
              "        \n",
              "  <svg xmlns=\"http://www.w3.org/2000/svg\" height=\"24px\"viewBox=\"0 0 24 24\"\n",
              "       width=\"24px\">\n",
              "    <path d=\"M0 0h24v24H0V0z\" fill=\"none\"/>\n",
              "    <path d=\"M18.56 5.44l.94 2.06.94-2.06 2.06-.94-2.06-.94-.94-2.06-.94 2.06-2.06.94zm-11 1L8.5 8.5l.94-2.06 2.06-.94-2.06-.94L8.5 2.5l-.94 2.06-2.06.94zm10 10l.94 2.06.94-2.06 2.06-.94-2.06-.94-.94-2.06-.94 2.06-2.06.94z\"/><path d=\"M17.41 7.96l-1.37-1.37c-.4-.4-.92-.59-1.43-.59-.52 0-1.04.2-1.43.59L10.3 9.45l-7.72 7.72c-.78.78-.78 2.05 0 2.83L4 21.41c.39.39.9.59 1.41.59.51 0 1.02-.2 1.41-.59l7.78-7.78 2.81-2.81c.8-.78.8-2.07 0-2.86zM5.41 20L4 18.59l7.72-7.72 1.47 1.35L5.41 20z\"/>\n",
              "  </svg>\n",
              "      </button>\n",
              "      \n",
              "  <style>\n",
              "    .colab-df-container {\n",
              "      display:flex;\n",
              "      flex-wrap:wrap;\n",
              "      gap: 12px;\n",
              "    }\n",
              "\n",
              "    .colab-df-convert {\n",
              "      background-color: #E8F0FE;\n",
              "      border: none;\n",
              "      border-radius: 50%;\n",
              "      cursor: pointer;\n",
              "      display: none;\n",
              "      fill: #1967D2;\n",
              "      height: 32px;\n",
              "      padding: 0 0 0 0;\n",
              "      width: 32px;\n",
              "    }\n",
              "\n",
              "    .colab-df-convert:hover {\n",
              "      background-color: #E2EBFA;\n",
              "      box-shadow: 0px 1px 2px rgba(60, 64, 67, 0.3), 0px 1px 3px 1px rgba(60, 64, 67, 0.15);\n",
              "      fill: #174EA6;\n",
              "    }\n",
              "\n",
              "    [theme=dark] .colab-df-convert {\n",
              "      background-color: #3B4455;\n",
              "      fill: #D2E3FC;\n",
              "    }\n",
              "\n",
              "    [theme=dark] .colab-df-convert:hover {\n",
              "      background-color: #434B5C;\n",
              "      box-shadow: 0px 1px 3px 1px rgba(0, 0, 0, 0.15);\n",
              "      filter: drop-shadow(0px 1px 2px rgba(0, 0, 0, 0.3));\n",
              "      fill: #FFFFFF;\n",
              "    }\n",
              "  </style>\n",
              "\n",
              "      <script>\n",
              "        const buttonEl =\n",
              "          document.querySelector('#df-e0f9a720-2316-4360-9730-affd72e3667d button.colab-df-convert');\n",
              "        buttonEl.style.display =\n",
              "          google.colab.kernel.accessAllowed ? 'block' : 'none';\n",
              "\n",
              "        async function convertToInteractive(key) {\n",
              "          const element = document.querySelector('#df-e0f9a720-2316-4360-9730-affd72e3667d');\n",
              "          const dataTable =\n",
              "            await google.colab.kernel.invokeFunction('convertToInteractive',\n",
              "                                                     [key], {});\n",
              "          if (!dataTable) return;\n",
              "\n",
              "          const docLinkHtml = 'Like what you see? Visit the ' +\n",
              "            '<a target=\"_blank\" href=https://colab.research.google.com/notebooks/data_table.ipynb>data table notebook</a>'\n",
              "            + ' to learn more about interactive tables.';\n",
              "          element.innerHTML = '';\n",
              "          dataTable['output_type'] = 'display_data';\n",
              "          await google.colab.output.renderOutput(dataTable, element);\n",
              "          const docLink = document.createElement('div');\n",
              "          docLink.innerHTML = docLinkHtml;\n",
              "          element.appendChild(docLink);\n",
              "        }\n",
              "      </script>\n",
              "    </div>\n",
              "  </div>\n",
              "  "
            ],
            "text/plain": [
              "       battery_power       blue  ...         wifi  price_range\n",
              "count    2000.000000  2000.0000  ...  2000.000000  2000.000000\n",
              "mean     1238.518500     0.4950  ...     0.507000     1.500000\n",
              "std       439.418206     0.5001  ...     0.500076     1.118314\n",
              "min       501.000000     0.0000  ...     0.000000     0.000000\n",
              "25%       851.750000     0.0000  ...     0.000000     0.750000\n",
              "50%      1226.000000     0.0000  ...     1.000000     1.500000\n",
              "75%      1615.250000     1.0000  ...     1.000000     2.250000\n",
              "max      1998.000000     1.0000  ...     1.000000     3.000000\n",
              "\n",
              "[8 rows x 21 columns]"
            ]
          },
          "metadata": {},
          "execution_count": 5
        }
      ]
    },
    {
      "cell_type": "code",
      "source": [
        "df['price_range'].value_counts().sort_values(ascending=False)"
      ],
      "metadata": {
        "colab": {
          "base_uri": "https://localhost:8080/"
        },
        "id": "uhZX0pUFORLD",
        "outputId": "9016c1fe-1f31-4e77-a357-6861229b3b1f"
      },
      "execution_count": null,
      "outputs": [
        {
          "output_type": "execute_result",
          "data": {
            "text/plain": [
              "0    500\n",
              "1    500\n",
              "2    500\n",
              "3    500\n",
              "Name: price_range, dtype: int64"
            ]
          },
          "metadata": {},
          "execution_count": 6
        }
      ]
    },
    {
      "cell_type": "markdown",
      "source": [
        "#Preprocessing"
      ],
      "metadata": {
        "id": "7V-lkLeYQmk7"
      }
    },
    {
      "cell_type": "code",
      "source": [
        "#Memisahkan antara feature (x) dan label (y)\n",
        "X = df.drop('price_range', axis=1)\n",
        "y = df[['price_range']]"
      ],
      "metadata": {
        "id": "Bh8wpSuXQFFd"
      },
      "execution_count": null,
      "outputs": []
    },
    {
      "cell_type": "code",
      "source": [
        "X.head(4)"
      ],
      "metadata": {
        "colab": {
          "base_uri": "https://localhost:8080/",
          "height": 239
        },
        "id": "OQmbVA3nQvEv",
        "outputId": "f31e47f2-49b7-48ee-cdd3-84f06f9b4068"
      },
      "execution_count": null,
      "outputs": [
        {
          "output_type": "execute_result",
          "data": {
            "text/html": [
              "\n",
              "  <div id=\"df-9df93329-663e-4d8d-a1a2-65f27a746ca3\">\n",
              "    <div class=\"colab-df-container\">\n",
              "      <div>\n",
              "<style scoped>\n",
              "    .dataframe tbody tr th:only-of-type {\n",
              "        vertical-align: middle;\n",
              "    }\n",
              "\n",
              "    .dataframe tbody tr th {\n",
              "        vertical-align: top;\n",
              "    }\n",
              "\n",
              "    .dataframe thead th {\n",
              "        text-align: right;\n",
              "    }\n",
              "</style>\n",
              "<table border=\"1\" class=\"dataframe\">\n",
              "  <thead>\n",
              "    <tr style=\"text-align: right;\">\n",
              "      <th></th>\n",
              "      <th>battery_power</th>\n",
              "      <th>blue</th>\n",
              "      <th>clock_speed</th>\n",
              "      <th>dual_sim</th>\n",
              "      <th>fc</th>\n",
              "      <th>four_g</th>\n",
              "      <th>int_memory</th>\n",
              "      <th>m_dep</th>\n",
              "      <th>mobile_wt</th>\n",
              "      <th>n_cores</th>\n",
              "      <th>pc</th>\n",
              "      <th>px_height</th>\n",
              "      <th>px_width</th>\n",
              "      <th>ram</th>\n",
              "      <th>sc_h</th>\n",
              "      <th>sc_w</th>\n",
              "      <th>talk_time</th>\n",
              "      <th>three_g</th>\n",
              "      <th>touch_screen</th>\n",
              "      <th>wifi</th>\n",
              "    </tr>\n",
              "  </thead>\n",
              "  <tbody>\n",
              "    <tr>\n",
              "      <th>0</th>\n",
              "      <td>842</td>\n",
              "      <td>0</td>\n",
              "      <td>2.2</td>\n",
              "      <td>0</td>\n",
              "      <td>1</td>\n",
              "      <td>0</td>\n",
              "      <td>7</td>\n",
              "      <td>0.6</td>\n",
              "      <td>188</td>\n",
              "      <td>2</td>\n",
              "      <td>2</td>\n",
              "      <td>20</td>\n",
              "      <td>756</td>\n",
              "      <td>2549</td>\n",
              "      <td>9</td>\n",
              "      <td>7</td>\n",
              "      <td>19</td>\n",
              "      <td>0</td>\n",
              "      <td>0</td>\n",
              "      <td>1</td>\n",
              "    </tr>\n",
              "    <tr>\n",
              "      <th>1</th>\n",
              "      <td>1021</td>\n",
              "      <td>1</td>\n",
              "      <td>0.5</td>\n",
              "      <td>1</td>\n",
              "      <td>0</td>\n",
              "      <td>1</td>\n",
              "      <td>53</td>\n",
              "      <td>0.7</td>\n",
              "      <td>136</td>\n",
              "      <td>3</td>\n",
              "      <td>6</td>\n",
              "      <td>905</td>\n",
              "      <td>1988</td>\n",
              "      <td>2631</td>\n",
              "      <td>17</td>\n",
              "      <td>3</td>\n",
              "      <td>7</td>\n",
              "      <td>1</td>\n",
              "      <td>1</td>\n",
              "      <td>0</td>\n",
              "    </tr>\n",
              "    <tr>\n",
              "      <th>2</th>\n",
              "      <td>563</td>\n",
              "      <td>1</td>\n",
              "      <td>0.5</td>\n",
              "      <td>1</td>\n",
              "      <td>2</td>\n",
              "      <td>1</td>\n",
              "      <td>41</td>\n",
              "      <td>0.9</td>\n",
              "      <td>145</td>\n",
              "      <td>5</td>\n",
              "      <td>6</td>\n",
              "      <td>1263</td>\n",
              "      <td>1716</td>\n",
              "      <td>2603</td>\n",
              "      <td>11</td>\n",
              "      <td>2</td>\n",
              "      <td>9</td>\n",
              "      <td>1</td>\n",
              "      <td>1</td>\n",
              "      <td>0</td>\n",
              "    </tr>\n",
              "    <tr>\n",
              "      <th>3</th>\n",
              "      <td>615</td>\n",
              "      <td>1</td>\n",
              "      <td>2.5</td>\n",
              "      <td>0</td>\n",
              "      <td>0</td>\n",
              "      <td>0</td>\n",
              "      <td>10</td>\n",
              "      <td>0.8</td>\n",
              "      <td>131</td>\n",
              "      <td>6</td>\n",
              "      <td>9</td>\n",
              "      <td>1216</td>\n",
              "      <td>1786</td>\n",
              "      <td>2769</td>\n",
              "      <td>16</td>\n",
              "      <td>8</td>\n",
              "      <td>11</td>\n",
              "      <td>1</td>\n",
              "      <td>0</td>\n",
              "      <td>0</td>\n",
              "    </tr>\n",
              "  </tbody>\n",
              "</table>\n",
              "</div>\n",
              "      <button class=\"colab-df-convert\" onclick=\"convertToInteractive('df-9df93329-663e-4d8d-a1a2-65f27a746ca3')\"\n",
              "              title=\"Convert this dataframe to an interactive table.\"\n",
              "              style=\"display:none;\">\n",
              "        \n",
              "  <svg xmlns=\"http://www.w3.org/2000/svg\" height=\"24px\"viewBox=\"0 0 24 24\"\n",
              "       width=\"24px\">\n",
              "    <path d=\"M0 0h24v24H0V0z\" fill=\"none\"/>\n",
              "    <path d=\"M18.56 5.44l.94 2.06.94-2.06 2.06-.94-2.06-.94-.94-2.06-.94 2.06-2.06.94zm-11 1L8.5 8.5l.94-2.06 2.06-.94-2.06-.94L8.5 2.5l-.94 2.06-2.06.94zm10 10l.94 2.06.94-2.06 2.06-.94-2.06-.94-.94-2.06-.94 2.06-2.06.94z\"/><path d=\"M17.41 7.96l-1.37-1.37c-.4-.4-.92-.59-1.43-.59-.52 0-1.04.2-1.43.59L10.3 9.45l-7.72 7.72c-.78.78-.78 2.05 0 2.83L4 21.41c.39.39.9.59 1.41.59.51 0 1.02-.2 1.41-.59l7.78-7.78 2.81-2.81c.8-.78.8-2.07 0-2.86zM5.41 20L4 18.59l7.72-7.72 1.47 1.35L5.41 20z\"/>\n",
              "  </svg>\n",
              "      </button>\n",
              "      \n",
              "  <style>\n",
              "    .colab-df-container {\n",
              "      display:flex;\n",
              "      flex-wrap:wrap;\n",
              "      gap: 12px;\n",
              "    }\n",
              "\n",
              "    .colab-df-convert {\n",
              "      background-color: #E8F0FE;\n",
              "      border: none;\n",
              "      border-radius: 50%;\n",
              "      cursor: pointer;\n",
              "      display: none;\n",
              "      fill: #1967D2;\n",
              "      height: 32px;\n",
              "      padding: 0 0 0 0;\n",
              "      width: 32px;\n",
              "    }\n",
              "\n",
              "    .colab-df-convert:hover {\n",
              "      background-color: #E2EBFA;\n",
              "      box-shadow: 0px 1px 2px rgba(60, 64, 67, 0.3), 0px 1px 3px 1px rgba(60, 64, 67, 0.15);\n",
              "      fill: #174EA6;\n",
              "    }\n",
              "\n",
              "    [theme=dark] .colab-df-convert {\n",
              "      background-color: #3B4455;\n",
              "      fill: #D2E3FC;\n",
              "    }\n",
              "\n",
              "    [theme=dark] .colab-df-convert:hover {\n",
              "      background-color: #434B5C;\n",
              "      box-shadow: 0px 1px 3px 1px rgba(0, 0, 0, 0.15);\n",
              "      filter: drop-shadow(0px 1px 2px rgba(0, 0, 0, 0.3));\n",
              "      fill: #FFFFFF;\n",
              "    }\n",
              "  </style>\n",
              "\n",
              "      <script>\n",
              "        const buttonEl =\n",
              "          document.querySelector('#df-9df93329-663e-4d8d-a1a2-65f27a746ca3 button.colab-df-convert');\n",
              "        buttonEl.style.display =\n",
              "          google.colab.kernel.accessAllowed ? 'block' : 'none';\n",
              "\n",
              "        async function convertToInteractive(key) {\n",
              "          const element = document.querySelector('#df-9df93329-663e-4d8d-a1a2-65f27a746ca3');\n",
              "          const dataTable =\n",
              "            await google.colab.kernel.invokeFunction('convertToInteractive',\n",
              "                                                     [key], {});\n",
              "          if (!dataTable) return;\n",
              "\n",
              "          const docLinkHtml = 'Like what you see? Visit the ' +\n",
              "            '<a target=\"_blank\" href=https://colab.research.google.com/notebooks/data_table.ipynb>data table notebook</a>'\n",
              "            + ' to learn more about interactive tables.';\n",
              "          element.innerHTML = '';\n",
              "          dataTable['output_type'] = 'display_data';\n",
              "          await google.colab.output.renderOutput(dataTable, element);\n",
              "          const docLink = document.createElement('div');\n",
              "          docLink.innerHTML = docLinkHtml;\n",
              "          element.appendChild(docLink);\n",
              "        }\n",
              "      </script>\n",
              "    </div>\n",
              "  </div>\n",
              "  "
            ],
            "text/plain": [
              "   battery_power  blue  clock_speed  ...  three_g  touch_screen  wifi\n",
              "0            842     0          2.2  ...        0             0     1\n",
              "1           1021     1          0.5  ...        1             1     0\n",
              "2            563     1          0.5  ...        1             1     0\n",
              "3            615     1          2.5  ...        1             0     0\n",
              "\n",
              "[4 rows x 20 columns]"
            ]
          },
          "metadata": {},
          "execution_count": 8
        }
      ]
    },
    {
      "cell_type": "code",
      "source": [
        "y.head(4)"
      ],
      "metadata": {
        "colab": {
          "base_uri": "https://localhost:8080/",
          "height": 175
        },
        "id": "5AItZxESRBsL",
        "outputId": "2025e5e9-c7d6-4c42-a8b1-ed4207cb5769"
      },
      "execution_count": null,
      "outputs": [
        {
          "output_type": "execute_result",
          "data": {
            "text/html": [
              "\n",
              "  <div id=\"df-914088c5-81f9-4218-be3b-2c3b9e966c05\">\n",
              "    <div class=\"colab-df-container\">\n",
              "      <div>\n",
              "<style scoped>\n",
              "    .dataframe tbody tr th:only-of-type {\n",
              "        vertical-align: middle;\n",
              "    }\n",
              "\n",
              "    .dataframe tbody tr th {\n",
              "        vertical-align: top;\n",
              "    }\n",
              "\n",
              "    .dataframe thead th {\n",
              "        text-align: right;\n",
              "    }\n",
              "</style>\n",
              "<table border=\"1\" class=\"dataframe\">\n",
              "  <thead>\n",
              "    <tr style=\"text-align: right;\">\n",
              "      <th></th>\n",
              "      <th>price_range</th>\n",
              "    </tr>\n",
              "  </thead>\n",
              "  <tbody>\n",
              "    <tr>\n",
              "      <th>0</th>\n",
              "      <td>1</td>\n",
              "    </tr>\n",
              "    <tr>\n",
              "      <th>1</th>\n",
              "      <td>2</td>\n",
              "    </tr>\n",
              "    <tr>\n",
              "      <th>2</th>\n",
              "      <td>2</td>\n",
              "    </tr>\n",
              "    <tr>\n",
              "      <th>3</th>\n",
              "      <td>2</td>\n",
              "    </tr>\n",
              "  </tbody>\n",
              "</table>\n",
              "</div>\n",
              "      <button class=\"colab-df-convert\" onclick=\"convertToInteractive('df-914088c5-81f9-4218-be3b-2c3b9e966c05')\"\n",
              "              title=\"Convert this dataframe to an interactive table.\"\n",
              "              style=\"display:none;\">\n",
              "        \n",
              "  <svg xmlns=\"http://www.w3.org/2000/svg\" height=\"24px\"viewBox=\"0 0 24 24\"\n",
              "       width=\"24px\">\n",
              "    <path d=\"M0 0h24v24H0V0z\" fill=\"none\"/>\n",
              "    <path d=\"M18.56 5.44l.94 2.06.94-2.06 2.06-.94-2.06-.94-.94-2.06-.94 2.06-2.06.94zm-11 1L8.5 8.5l.94-2.06 2.06-.94-2.06-.94L8.5 2.5l-.94 2.06-2.06.94zm10 10l.94 2.06.94-2.06 2.06-.94-2.06-.94-.94-2.06-.94 2.06-2.06.94z\"/><path d=\"M17.41 7.96l-1.37-1.37c-.4-.4-.92-.59-1.43-.59-.52 0-1.04.2-1.43.59L10.3 9.45l-7.72 7.72c-.78.78-.78 2.05 0 2.83L4 21.41c.39.39.9.59 1.41.59.51 0 1.02-.2 1.41-.59l7.78-7.78 2.81-2.81c.8-.78.8-2.07 0-2.86zM5.41 20L4 18.59l7.72-7.72 1.47 1.35L5.41 20z\"/>\n",
              "  </svg>\n",
              "      </button>\n",
              "      \n",
              "  <style>\n",
              "    .colab-df-container {\n",
              "      display:flex;\n",
              "      flex-wrap:wrap;\n",
              "      gap: 12px;\n",
              "    }\n",
              "\n",
              "    .colab-df-convert {\n",
              "      background-color: #E8F0FE;\n",
              "      border: none;\n",
              "      border-radius: 50%;\n",
              "      cursor: pointer;\n",
              "      display: none;\n",
              "      fill: #1967D2;\n",
              "      height: 32px;\n",
              "      padding: 0 0 0 0;\n",
              "      width: 32px;\n",
              "    }\n",
              "\n",
              "    .colab-df-convert:hover {\n",
              "      background-color: #E2EBFA;\n",
              "      box-shadow: 0px 1px 2px rgba(60, 64, 67, 0.3), 0px 1px 3px 1px rgba(60, 64, 67, 0.15);\n",
              "      fill: #174EA6;\n",
              "    }\n",
              "\n",
              "    [theme=dark] .colab-df-convert {\n",
              "      background-color: #3B4455;\n",
              "      fill: #D2E3FC;\n",
              "    }\n",
              "\n",
              "    [theme=dark] .colab-df-convert:hover {\n",
              "      background-color: #434B5C;\n",
              "      box-shadow: 0px 1px 3px 1px rgba(0, 0, 0, 0.15);\n",
              "      filter: drop-shadow(0px 1px 2px rgba(0, 0, 0, 0.3));\n",
              "      fill: #FFFFFF;\n",
              "    }\n",
              "  </style>\n",
              "\n",
              "      <script>\n",
              "        const buttonEl =\n",
              "          document.querySelector('#df-914088c5-81f9-4218-be3b-2c3b9e966c05 button.colab-df-convert');\n",
              "        buttonEl.style.display =\n",
              "          google.colab.kernel.accessAllowed ? 'block' : 'none';\n",
              "\n",
              "        async function convertToInteractive(key) {\n",
              "          const element = document.querySelector('#df-914088c5-81f9-4218-be3b-2c3b9e966c05');\n",
              "          const dataTable =\n",
              "            await google.colab.kernel.invokeFunction('convertToInteractive',\n",
              "                                                     [key], {});\n",
              "          if (!dataTable) return;\n",
              "\n",
              "          const docLinkHtml = 'Like what you see? Visit the ' +\n",
              "            '<a target=\"_blank\" href=https://colab.research.google.com/notebooks/data_table.ipynb>data table notebook</a>'\n",
              "            + ' to learn more about interactive tables.';\n",
              "          element.innerHTML = '';\n",
              "          dataTable['output_type'] = 'display_data';\n",
              "          await google.colab.output.renderOutput(dataTable, element);\n",
              "          const docLink = document.createElement('div');\n",
              "          docLink.innerHTML = docLinkHtml;\n",
              "          element.appendChild(docLink);\n",
              "        }\n",
              "      </script>\n",
              "    </div>\n",
              "  </div>\n",
              "  "
            ],
            "text/plain": [
              "   price_range\n",
              "0            1\n",
              "1            2\n",
              "2            2\n",
              "3            2"
            ]
          },
          "metadata": {},
          "execution_count": 9
        }
      ]
    },
    {
      "cell_type": "code",
      "source": [
        "#Normalizing the data\n",
        "from sklearn.preprocessing import StandardScaler\n",
        "sc = StandardScaler()\n",
        "X = sc.fit_transform(X)"
      ],
      "metadata": {
        "id": "6jfzhEiETsqp"
      },
      "execution_count": null,
      "outputs": []
    },
    {
      "cell_type": "code",
      "source": [
        "X[0,:]"
      ],
      "metadata": {
        "colab": {
          "base_uri": "https://localhost:8080/"
        },
        "id": "GOA4_rtaTzmb",
        "outputId": "ef09f20e-cee7-4ca0-9c8c-59176e457f3a"
      },
      "execution_count": null,
      "outputs": [
        {
          "output_type": "execute_result",
          "data": {
            "text/plain": [
              "array([-0.90259726, -0.9900495 ,  0.83077942, -1.01918398, -0.76249466,\n",
              "       -1.04396559, -1.38064353,  0.34073951,  1.34924881, -1.10197128,\n",
              "       -1.3057501 , -1.40894856, -1.14678403,  0.39170341, -0.78498329,\n",
              "        0.2831028 ,  1.46249332, -1.78686097, -1.00601811,  0.98609664])"
            ]
          },
          "metadata": {},
          "execution_count": 11
        }
      ]
    },
    {
      "cell_type": "code",
      "source": [
        "#proses selanjutnya yaitu melakukan one hot encoding terhadap y.\n",
        "#One hot encoding adalah proses untuk mengubah kelas integer menjadi nilai biner\n",
        "#contohnya jika kita memiliki 3 kelas, yaitu 1, 2 dan 3\n",
        "#maka untuk 1 akan menjadi 1 0 0\n",
        "#lalu untuk 2 akan menjadi 0 1 0\n",
        "#dan untuk 3 akan menjadi  0 0 1\n",
        "\n",
        "from sklearn.preprocessing import OneHotEncoder\n",
        "ohe = OneHotEncoder()\n",
        "y = ohe.fit_transform(y).toarray()\n",
        "print(y[:4])"
      ],
      "metadata": {
        "colab": {
          "base_uri": "https://localhost:8080/"
        },
        "id": "kXVdaaOCRCQf",
        "outputId": "82e8ad20-49ea-46c5-8bd7-158cba06d8a6"
      },
      "execution_count": null,
      "outputs": [
        {
          "output_type": "stream",
          "name": "stdout",
          "text": [
            "[[0. 1. 0. 0.]\n",
            " [0. 0. 1. 0.]\n",
            " [0. 0. 1. 0.]\n",
            " [0. 0. 1. 0.]]\n"
          ]
        }
      ]
    },
    {
      "cell_type": "code",
      "source": [
        "#Proses pemisahan data menjadi training dan testing\n",
        "\n",
        "from sklearn.model_selection import train_test_split\n",
        "X_train,X_test,y_train,y_test = train_test_split(X,y,test_size = 0.1,random_state=0)\n",
        "\n",
        "print(X_train.shape, y_train.shape)\n",
        "print(X_test.shape, y_test.shape)"
      ],
      "metadata": {
        "colab": {
          "base_uri": "https://localhost:8080/"
        },
        "id": "qWbJFPCnRuqb",
        "outputId": "fa11c0bf-4f1e-4f66-c4c1-95e86f83509d"
      },
      "execution_count": null,
      "outputs": [
        {
          "output_type": "stream",
          "name": "stdout",
          "text": [
            "(1800, 20) (1800, 4)\n",
            "(200, 20) (200, 4)\n"
          ]
        }
      ]
    },
    {
      "cell_type": "markdown",
      "source": [
        "#Model Deep Neural Network"
      ],
      "metadata": {
        "id": "7jWRG256R9zY"
      }
    },
    {
      "cell_type": "code",
      "source": [
        "import keras\n",
        "from keras.models import Sequential\n",
        "from keras.layers import Dense, InputLayer"
      ],
      "metadata": {
        "id": "pKbcYihyR7S-"
      },
      "execution_count": null,
      "outputs": []
    },
    {
      "cell_type": "code",
      "source": [
        "model = Sequential() #Model\n",
        "model.add(InputLayer(input_shape=(20,))) #Input Layer\n",
        "model.add(Dense(16, activation='relu')) #Hidden Layer 1\n",
        "model.add(Dense(16, activation='relu')) #Hidden Layer 2\n",
        "model.add(Dense(8, activation='relu')) #Hidden Layer 3\n",
        "model.add(Dense(4, activation='softmax')) #Output Layer"
      ],
      "metadata": {
        "id": "87PnESpqSDSv"
      },
      "execution_count": null,
      "outputs": []
    },
    {
      "cell_type": "code",
      "source": [
        "model.summary()"
      ],
      "metadata": {
        "colab": {
          "base_uri": "https://localhost:8080/"
        },
        "id": "PsngabAhS_4I",
        "outputId": "503fe980-fa66-4e09-c962-a03642741e04"
      },
      "execution_count": null,
      "outputs": [
        {
          "output_type": "stream",
          "name": "stdout",
          "text": [
            "Model: \"sequential\"\n",
            "_________________________________________________________________\n",
            " Layer (type)                Output Shape              Param #   \n",
            "=================================================================\n",
            " dense (Dense)               (None, 16)                336       \n",
            "                                                                 \n",
            " dense_1 (Dense)             (None, 16)                272       \n",
            "                                                                 \n",
            " dense_2 (Dense)             (None, 8)                 136       \n",
            "                                                                 \n",
            " dense_3 (Dense)             (None, 4)                 36        \n",
            "                                                                 \n",
            "=================================================================\n",
            "Total params: 780\n",
            "Trainable params: 780\n",
            "Non-trainable params: 0\n",
            "_________________________________________________________________\n"
          ]
        }
      ]
    },
    {
      "cell_type": "code",
      "source": [
        "model.compile(loss='categorical_crossentropy',\n",
        "              optimizer='adam',\n",
        "              metrics=['accuracy'])"
      ],
      "metadata": {
        "id": "ylkAyuzRTGoe"
      },
      "execution_count": null,
      "outputs": []
    },
    {
      "cell_type": "code",
      "source": [
        "history = model.fit(X_train, y_train,\n",
        "                    validation_split=0.1, shuffle=True,\n",
        "                    epochs=100)"
      ],
      "metadata": {
        "colab": {
          "base_uri": "https://localhost:8080/"
        },
        "id": "8fbznTb9TSi4",
        "outputId": "46d0115e-1344-4605-fffc-c40f0914f3e1"
      },
      "execution_count": null,
      "outputs": [
        {
          "output_type": "stream",
          "name": "stdout",
          "text": [
            "Epoch 1/100\n",
            "51/51 [==============================] - 1s 4ms/step - loss: 1.3954 - accuracy: 0.2864 - val_loss: 1.3410 - val_accuracy: 0.3278\n",
            "Epoch 2/100\n",
            "51/51 [==============================] - 0s 1ms/step - loss: 1.3027 - accuracy: 0.3574 - val_loss: 1.2570 - val_accuracy: 0.4111\n",
            "Epoch 3/100\n",
            "51/51 [==============================] - 0s 2ms/step - loss: 1.2070 - accuracy: 0.4228 - val_loss: 1.1498 - val_accuracy: 0.4111\n",
            "Epoch 4/100\n",
            "51/51 [==============================] - 0s 2ms/step - loss: 1.0792 - accuracy: 0.4809 - val_loss: 1.0156 - val_accuracy: 0.5278\n",
            "Epoch 5/100\n",
            "51/51 [==============================] - 0s 2ms/step - loss: 0.9330 - accuracy: 0.5691 - val_loss: 0.8706 - val_accuracy: 0.6000\n",
            "Epoch 6/100\n",
            "51/51 [==============================] - 0s 2ms/step - loss: 0.7948 - accuracy: 0.6580 - val_loss: 0.7449 - val_accuracy: 0.6722\n",
            "Epoch 7/100\n",
            "51/51 [==============================] - 0s 2ms/step - loss: 0.6743 - accuracy: 0.7265 - val_loss: 0.6348 - val_accuracy: 0.7167\n",
            "Epoch 8/100\n",
            "51/51 [==============================] - 0s 2ms/step - loss: 0.5740 - accuracy: 0.7809 - val_loss: 0.5453 - val_accuracy: 0.7833\n",
            "Epoch 9/100\n",
            "51/51 [==============================] - 0s 2ms/step - loss: 0.4928 - accuracy: 0.8074 - val_loss: 0.4782 - val_accuracy: 0.8222\n",
            "Epoch 10/100\n",
            "51/51 [==============================] - 0s 1ms/step - loss: 0.4276 - accuracy: 0.8346 - val_loss: 0.4162 - val_accuracy: 0.8389\n",
            "Epoch 11/100\n",
            "51/51 [==============================] - 0s 2ms/step - loss: 0.3742 - accuracy: 0.8574 - val_loss: 0.3688 - val_accuracy: 0.8667\n",
            "Epoch 12/100\n",
            "51/51 [==============================] - 0s 2ms/step - loss: 0.3273 - accuracy: 0.8759 - val_loss: 0.3458 - val_accuracy: 0.8611\n",
            "Epoch 13/100\n",
            "51/51 [==============================] - 0s 1ms/step - loss: 0.2944 - accuracy: 0.8864 - val_loss: 0.3105 - val_accuracy: 0.8778\n",
            "Epoch 14/100\n",
            "51/51 [==============================] - 0s 2ms/step - loss: 0.2674 - accuracy: 0.9012 - val_loss: 0.2900 - val_accuracy: 0.8833\n",
            "Epoch 15/100\n",
            "51/51 [==============================] - 0s 2ms/step - loss: 0.2447 - accuracy: 0.9074 - val_loss: 0.2682 - val_accuracy: 0.8778\n",
            "Epoch 16/100\n",
            "51/51 [==============================] - 0s 2ms/step - loss: 0.2241 - accuracy: 0.9204 - val_loss: 0.2521 - val_accuracy: 0.8833\n",
            "Epoch 17/100\n",
            "51/51 [==============================] - 0s 1ms/step - loss: 0.2084 - accuracy: 0.9272 - val_loss: 0.2474 - val_accuracy: 0.8889\n",
            "Epoch 18/100\n",
            "51/51 [==============================] - 0s 2ms/step - loss: 0.1953 - accuracy: 0.9333 - val_loss: 0.2343 - val_accuracy: 0.8944\n",
            "Epoch 19/100\n",
            "51/51 [==============================] - 0s 2ms/step - loss: 0.1810 - accuracy: 0.9346 - val_loss: 0.2255 - val_accuracy: 0.9000\n",
            "Epoch 20/100\n",
            "51/51 [==============================] - 0s 2ms/step - loss: 0.1705 - accuracy: 0.9352 - val_loss: 0.2282 - val_accuracy: 0.9056\n",
            "Epoch 21/100\n",
            "51/51 [==============================] - 0s 2ms/step - loss: 0.1605 - accuracy: 0.9414 - val_loss: 0.2043 - val_accuracy: 0.9278\n",
            "Epoch 22/100\n",
            "51/51 [==============================] - 0s 2ms/step - loss: 0.1540 - accuracy: 0.9420 - val_loss: 0.2123 - val_accuracy: 0.9056\n",
            "Epoch 23/100\n",
            "51/51 [==============================] - 0s 2ms/step - loss: 0.1441 - accuracy: 0.9531 - val_loss: 0.1967 - val_accuracy: 0.9333\n",
            "Epoch 24/100\n",
            "51/51 [==============================] - 0s 2ms/step - loss: 0.1381 - accuracy: 0.9481 - val_loss: 0.2038 - val_accuracy: 0.9222\n",
            "Epoch 25/100\n",
            "51/51 [==============================] - 0s 2ms/step - loss: 0.1309 - accuracy: 0.9531 - val_loss: 0.1909 - val_accuracy: 0.9222\n",
            "Epoch 26/100\n",
            "51/51 [==============================] - 0s 1ms/step - loss: 0.1252 - accuracy: 0.9568 - val_loss: 0.1839 - val_accuracy: 0.9389\n",
            "Epoch 27/100\n",
            "51/51 [==============================] - 0s 1ms/step - loss: 0.1195 - accuracy: 0.9580 - val_loss: 0.1953 - val_accuracy: 0.9111\n",
            "Epoch 28/100\n",
            "51/51 [==============================] - 0s 2ms/step - loss: 0.1126 - accuracy: 0.9599 - val_loss: 0.1943 - val_accuracy: 0.9222\n",
            "Epoch 29/100\n",
            "51/51 [==============================] - 0s 2ms/step - loss: 0.1087 - accuracy: 0.9667 - val_loss: 0.1834 - val_accuracy: 0.9389\n",
            "Epoch 30/100\n",
            "51/51 [==============================] - 0s 2ms/step - loss: 0.1067 - accuracy: 0.9593 - val_loss: 0.1800 - val_accuracy: 0.9500\n",
            "Epoch 31/100\n",
            "51/51 [==============================] - 0s 2ms/step - loss: 0.1031 - accuracy: 0.9630 - val_loss: 0.1857 - val_accuracy: 0.9278\n",
            "Epoch 32/100\n",
            "51/51 [==============================] - 0s 2ms/step - loss: 0.0983 - accuracy: 0.9679 - val_loss: 0.1826 - val_accuracy: 0.9444\n",
            "Epoch 33/100\n",
            "51/51 [==============================] - 0s 2ms/step - loss: 0.0947 - accuracy: 0.9716 - val_loss: 0.1905 - val_accuracy: 0.9333\n",
            "Epoch 34/100\n",
            "51/51 [==============================] - 0s 2ms/step - loss: 0.0914 - accuracy: 0.9685 - val_loss: 0.1779 - val_accuracy: 0.9389\n",
            "Epoch 35/100\n",
            "51/51 [==============================] - 0s 2ms/step - loss: 0.0887 - accuracy: 0.9698 - val_loss: 0.1872 - val_accuracy: 0.9278\n",
            "Epoch 36/100\n",
            "51/51 [==============================] - 0s 2ms/step - loss: 0.0836 - accuracy: 0.9759 - val_loss: 0.1852 - val_accuracy: 0.9389\n",
            "Epoch 37/100\n",
            "51/51 [==============================] - 0s 1ms/step - loss: 0.0824 - accuracy: 0.9741 - val_loss: 0.1850 - val_accuracy: 0.9278\n",
            "Epoch 38/100\n",
            "51/51 [==============================] - 0s 2ms/step - loss: 0.0792 - accuracy: 0.9741 - val_loss: 0.1787 - val_accuracy: 0.9444\n",
            "Epoch 39/100\n",
            "51/51 [==============================] - 0s 2ms/step - loss: 0.0775 - accuracy: 0.9790 - val_loss: 0.2007 - val_accuracy: 0.9278\n",
            "Epoch 40/100\n",
            "51/51 [==============================] - 0s 2ms/step - loss: 0.0765 - accuracy: 0.9728 - val_loss: 0.1797 - val_accuracy: 0.9333\n",
            "Epoch 41/100\n",
            "51/51 [==============================] - 0s 1ms/step - loss: 0.0721 - accuracy: 0.9778 - val_loss: 0.1926 - val_accuracy: 0.9389\n",
            "Epoch 42/100\n",
            "51/51 [==============================] - 0s 2ms/step - loss: 0.0709 - accuracy: 0.9778 - val_loss: 0.1720 - val_accuracy: 0.9389\n",
            "Epoch 43/100\n",
            "51/51 [==============================] - 0s 2ms/step - loss: 0.0690 - accuracy: 0.9784 - val_loss: 0.1767 - val_accuracy: 0.9444\n",
            "Epoch 44/100\n",
            "51/51 [==============================] - 0s 2ms/step - loss: 0.0644 - accuracy: 0.9833 - val_loss: 0.1869 - val_accuracy: 0.9222\n",
            "Epoch 45/100\n",
            "51/51 [==============================] - 0s 2ms/step - loss: 0.0643 - accuracy: 0.9796 - val_loss: 0.2074 - val_accuracy: 0.9278\n",
            "Epoch 46/100\n",
            "51/51 [==============================] - 0s 2ms/step - loss: 0.0611 - accuracy: 0.9833 - val_loss: 0.1930 - val_accuracy: 0.9222\n",
            "Epoch 47/100\n",
            "51/51 [==============================] - 0s 2ms/step - loss: 0.0600 - accuracy: 0.9833 - val_loss: 0.1934 - val_accuracy: 0.9222\n",
            "Epoch 48/100\n",
            "51/51 [==============================] - 0s 2ms/step - loss: 0.0576 - accuracy: 0.9852 - val_loss: 0.2108 - val_accuracy: 0.9167\n",
            "Epoch 49/100\n",
            "51/51 [==============================] - 0s 2ms/step - loss: 0.0564 - accuracy: 0.9840 - val_loss: 0.1881 - val_accuracy: 0.9333\n",
            "Epoch 50/100\n",
            "51/51 [==============================] - 0s 1ms/step - loss: 0.0524 - accuracy: 0.9870 - val_loss: 0.1827 - val_accuracy: 0.9444\n",
            "Epoch 51/100\n",
            "51/51 [==============================] - 0s 2ms/step - loss: 0.0530 - accuracy: 0.9870 - val_loss: 0.1892 - val_accuracy: 0.9333\n",
            "Epoch 52/100\n",
            "51/51 [==============================] - 0s 2ms/step - loss: 0.0500 - accuracy: 0.9889 - val_loss: 0.1950 - val_accuracy: 0.9333\n",
            "Epoch 53/100\n",
            "51/51 [==============================] - 0s 2ms/step - loss: 0.0486 - accuracy: 0.9907 - val_loss: 0.2058 - val_accuracy: 0.9222\n",
            "Epoch 54/100\n",
            "51/51 [==============================] - 0s 1ms/step - loss: 0.0473 - accuracy: 0.9901 - val_loss: 0.1906 - val_accuracy: 0.9278\n",
            "Epoch 55/100\n",
            "51/51 [==============================] - 0s 2ms/step - loss: 0.0454 - accuracy: 0.9901 - val_loss: 0.1875 - val_accuracy: 0.9333\n",
            "Epoch 56/100\n",
            "51/51 [==============================] - 0s 2ms/step - loss: 0.0452 - accuracy: 0.9889 - val_loss: 0.1856 - val_accuracy: 0.9333\n",
            "Epoch 57/100\n",
            "51/51 [==============================] - 0s 2ms/step - loss: 0.0454 - accuracy: 0.9907 - val_loss: 0.1963 - val_accuracy: 0.9333\n",
            "Epoch 58/100\n",
            "51/51 [==============================] - 0s 2ms/step - loss: 0.0431 - accuracy: 0.9907 - val_loss: 0.1973 - val_accuracy: 0.9389\n",
            "Epoch 59/100\n",
            "51/51 [==============================] - 0s 2ms/step - loss: 0.0412 - accuracy: 0.9895 - val_loss: 0.1900 - val_accuracy: 0.9389\n",
            "Epoch 60/100\n",
            "51/51 [==============================] - 0s 2ms/step - loss: 0.0400 - accuracy: 0.9907 - val_loss: 0.1852 - val_accuracy: 0.9333\n",
            "Epoch 61/100\n",
            "51/51 [==============================] - 0s 2ms/step - loss: 0.0379 - accuracy: 0.9914 - val_loss: 0.1959 - val_accuracy: 0.9278\n",
            "Epoch 62/100\n",
            "51/51 [==============================] - 0s 2ms/step - loss: 0.0368 - accuracy: 0.9944 - val_loss: 0.1918 - val_accuracy: 0.9333\n",
            "Epoch 63/100\n",
            "51/51 [==============================] - 0s 2ms/step - loss: 0.0356 - accuracy: 0.9951 - val_loss: 0.1890 - val_accuracy: 0.9333\n",
            "Epoch 64/100\n",
            "51/51 [==============================] - 0s 2ms/step - loss: 0.0364 - accuracy: 0.9938 - val_loss: 0.1933 - val_accuracy: 0.9333\n",
            "Epoch 65/100\n",
            "51/51 [==============================] - 0s 2ms/step - loss: 0.0342 - accuracy: 0.9932 - val_loss: 0.1992 - val_accuracy: 0.9333\n",
            "Epoch 66/100\n",
            "51/51 [==============================] - 0s 2ms/step - loss: 0.0338 - accuracy: 0.9938 - val_loss: 0.1978 - val_accuracy: 0.9389\n",
            "Epoch 67/100\n",
            "51/51 [==============================] - 0s 2ms/step - loss: 0.0312 - accuracy: 0.9957 - val_loss: 0.1897 - val_accuracy: 0.9278\n",
            "Epoch 68/100\n",
            "51/51 [==============================] - 0s 2ms/step - loss: 0.0299 - accuracy: 0.9963 - val_loss: 0.2095 - val_accuracy: 0.9389\n",
            "Epoch 69/100\n",
            "51/51 [==============================] - 0s 2ms/step - loss: 0.0305 - accuracy: 0.9957 - val_loss: 0.2198 - val_accuracy: 0.9389\n",
            "Epoch 70/100\n",
            "51/51 [==============================] - 0s 2ms/step - loss: 0.0299 - accuracy: 0.9932 - val_loss: 0.2088 - val_accuracy: 0.9389\n",
            "Epoch 71/100\n",
            "51/51 [==============================] - 0s 2ms/step - loss: 0.0270 - accuracy: 0.9963 - val_loss: 0.2156 - val_accuracy: 0.9333\n",
            "Epoch 72/100\n",
            "51/51 [==============================] - 0s 2ms/step - loss: 0.0279 - accuracy: 0.9969 - val_loss: 0.2015 - val_accuracy: 0.9333\n",
            "Epoch 73/100\n",
            "51/51 [==============================] - 0s 2ms/step - loss: 0.0264 - accuracy: 0.9975 - val_loss: 0.2050 - val_accuracy: 0.9389\n",
            "Epoch 74/100\n",
            "51/51 [==============================] - 0s 2ms/step - loss: 0.0255 - accuracy: 0.9981 - val_loss: 0.1932 - val_accuracy: 0.9389\n",
            "Epoch 75/100\n",
            "51/51 [==============================] - 0s 2ms/step - loss: 0.0260 - accuracy: 0.9963 - val_loss: 0.2171 - val_accuracy: 0.9333\n",
            "Epoch 76/100\n",
            "51/51 [==============================] - 0s 2ms/step - loss: 0.0240 - accuracy: 0.9969 - val_loss: 0.2008 - val_accuracy: 0.9333\n",
            "Epoch 77/100\n",
            "51/51 [==============================] - 0s 1ms/step - loss: 0.0231 - accuracy: 0.9975 - val_loss: 0.2223 - val_accuracy: 0.9333\n",
            "Epoch 78/100\n",
            "51/51 [==============================] - 0s 2ms/step - loss: 0.0219 - accuracy: 0.9981 - val_loss: 0.2537 - val_accuracy: 0.9167\n",
            "Epoch 79/100\n",
            "51/51 [==============================] - 0s 2ms/step - loss: 0.0233 - accuracy: 0.9975 - val_loss: 0.1891 - val_accuracy: 0.9389\n",
            "Epoch 80/100\n",
            "51/51 [==============================] - 0s 2ms/step - loss: 0.0204 - accuracy: 0.9994 - val_loss: 0.2052 - val_accuracy: 0.9333\n",
            "Epoch 81/100\n",
            "51/51 [==============================] - 0s 1ms/step - loss: 0.0204 - accuracy: 0.9988 - val_loss: 0.2089 - val_accuracy: 0.9333\n",
            "Epoch 82/100\n",
            "51/51 [==============================] - 0s 2ms/step - loss: 0.0185 - accuracy: 1.0000 - val_loss: 0.2022 - val_accuracy: 0.9389\n",
            "Epoch 83/100\n",
            "51/51 [==============================] - 0s 1ms/step - loss: 0.0182 - accuracy: 0.9994 - val_loss: 0.1988 - val_accuracy: 0.9444\n",
            "Epoch 84/100\n",
            "51/51 [==============================] - 0s 2ms/step - loss: 0.0179 - accuracy: 0.9988 - val_loss: 0.2190 - val_accuracy: 0.9333\n",
            "Epoch 85/100\n",
            "51/51 [==============================] - 0s 2ms/step - loss: 0.0169 - accuracy: 1.0000 - val_loss: 0.2023 - val_accuracy: 0.9333\n",
            "Epoch 86/100\n",
            "51/51 [==============================] - 0s 2ms/step - loss: 0.0164 - accuracy: 0.9994 - val_loss: 0.1990 - val_accuracy: 0.9444\n",
            "Epoch 87/100\n",
            "51/51 [==============================] - 0s 2ms/step - loss: 0.0172 - accuracy: 1.0000 - val_loss: 0.2115 - val_accuracy: 0.9444\n",
            "Epoch 88/100\n",
            "51/51 [==============================] - 0s 2ms/step - loss: 0.0150 - accuracy: 1.0000 - val_loss: 0.1965 - val_accuracy: 0.9333\n",
            "Epoch 89/100\n",
            "51/51 [==============================] - 0s 1ms/step - loss: 0.0177 - accuracy: 0.9988 - val_loss: 0.2252 - val_accuracy: 0.9278\n",
            "Epoch 90/100\n",
            "51/51 [==============================] - 0s 2ms/step - loss: 0.0152 - accuracy: 1.0000 - val_loss: 0.2182 - val_accuracy: 0.9333\n",
            "Epoch 91/100\n",
            "51/51 [==============================] - 0s 2ms/step - loss: 0.0133 - accuracy: 1.0000 - val_loss: 0.2085 - val_accuracy: 0.9389\n",
            "Epoch 92/100\n",
            "51/51 [==============================] - 0s 2ms/step - loss: 0.0132 - accuracy: 0.9994 - val_loss: 0.1955 - val_accuracy: 0.9389\n",
            "Epoch 93/100\n",
            "51/51 [==============================] - 0s 2ms/step - loss: 0.0131 - accuracy: 1.0000 - val_loss: 0.2194 - val_accuracy: 0.9333\n",
            "Epoch 94/100\n",
            "51/51 [==============================] - 0s 1ms/step - loss: 0.0126 - accuracy: 1.0000 - val_loss: 0.2143 - val_accuracy: 0.9444\n",
            "Epoch 95/100\n",
            "51/51 [==============================] - 0s 2ms/step - loss: 0.0126 - accuracy: 0.9994 - val_loss: 0.2256 - val_accuracy: 0.9333\n",
            "Epoch 96/100\n",
            "51/51 [==============================] - 0s 2ms/step - loss: 0.0128 - accuracy: 0.9994 - val_loss: 0.2035 - val_accuracy: 0.9389\n",
            "Epoch 97/100\n",
            "51/51 [==============================] - 0s 2ms/step - loss: 0.0118 - accuracy: 1.0000 - val_loss: 0.2022 - val_accuracy: 0.9389\n",
            "Epoch 98/100\n",
            "51/51 [==============================] - 0s 2ms/step - loss: 0.0110 - accuracy: 1.0000 - val_loss: 0.2231 - val_accuracy: 0.9333\n",
            "Epoch 99/100\n",
            "51/51 [==============================] - 0s 2ms/step - loss: 0.0111 - accuracy: 1.0000 - val_loss: 0.1987 - val_accuracy: 0.9389\n",
            "Epoch 100/100\n",
            "51/51 [==============================] - 0s 2ms/step - loss: 0.0104 - accuracy: 1.0000 - val_loss: 0.2366 - val_accuracy: 0.9389\n"
          ]
        }
      ]
    },
    {
      "cell_type": "code",
      "source": [
        "import matplotlib.pyplot as plt\n",
        "\n",
        "plt.plot(history.history['accuracy'])\n",
        "plt.plot(history.history['val_accuracy'])\n",
        "plt.title('Model accuracy')\n",
        "plt.ylabel('Accuracy')\n",
        "plt.xlabel('Epoch')\n",
        "plt.legend(['Training', 'Validation'])\n",
        "plt.show()"
      ],
      "metadata": {
        "colab": {
          "base_uri": "https://localhost:8080/",
          "height": 295
        },
        "id": "JO8xKPyfXV9s",
        "outputId": "5c8ea70b-1da2-4a9b-89e6-d52fcd6e742b"
      },
      "execution_count": null,
      "outputs": [
        {
          "output_type": "display_data",
          "data": {
            "image/png": "[encoded data removed]",
            "text/plain": [
              "<Figure size 432x288 with 1 Axes>"
            ]
          },
          "metadata": {
            "needs_background": "light"
          }
        }
      ]
    },
    {
      "cell_type": "code",
      "source": [
        "plt.plot(history.history['loss'],label='Training')\n",
        "plt.plot(history.history['val_loss'],label='Validation')\n",
        "plt.title('Model loss')\n",
        "plt.ylabel('Loss')\n",
        "plt.xlabel('Epoch')\n",
        "plt.legend()\n",
        "plt.show()"
      ],
      "metadata": {
        "colab": {
          "base_uri": "https://localhost:8080/",
          "height": 295
        },
        "id": "eoJI9lJKXdG9",
        "outputId": "f4e6bfd6-76b9-4bf0-e2d6-f4789b3af0ca"
      },
      "execution_count": null,
      "outputs": [
        {
          "output_type": "display_data",
          "data": {
            "image/png": "[encoded data removed]",
            "text/plain": [
              "<Figure size 432x288 with 1 Axes>"
            ]
          },
          "metadata": {
            "needs_background": "light"
          }
        }
      ]
    },
    {
      "cell_type": "markdown",
      "source": [
        "#Predict"
      ],
      "metadata": {
        "id": "_xQJau8LXkuY"
      }
    },
    {
      "cell_type": "code",
      "source": [
        "y_pred = model.predict(X_test)\n",
        "print(y_pred[0])\n",
        "print(y_test[0])"
      ],
      "metadata": {
        "colab": {
          "base_uri": "https://localhost:8080/"
        },
        "id": "aMauLF0cUACv",
        "outputId": "e9e8b5a3-9730-4cde-a2a5-26297b410e80"
      },
      "execution_count": null,
      "outputs": [
        {
          "output_type": "stream",
          "name": "stdout",
          "text": [
            "[8.4149884e-17 1.2822893e-26 8.0931590e-05 9.9991906e-01]\n",
            "[0. 0. 0. 1.]\n"
          ]
        }
      ]
    },
    {
      "cell_type": "code",
      "source": [
        "import numpy as np\n",
        "\n",
        "print(np.argmax(y_pred[0]))\n",
        "print(np.argmax(y_test[0]))"
      ],
      "metadata": {
        "colab": {
          "base_uri": "https://localhost:8080/"
        },
        "id": "fJ0JlgW2VwpW",
        "outputId": "32c99f3a-bd31-44d8-9983-21f7adb9c454"
      },
      "execution_count": null,
      "outputs": [
        {
          "output_type": "stream",
          "name": "stdout",
          "text": [
            "3\n",
            "3\n"
          ]
        }
      ]
    },
    {
      "cell_type": "code",
      "source": [
        "pred = []\n",
        "for i in range(len(y_pred)):\n",
        "    pred.append(np.argmax(y_pred[i]))\n",
        "\n",
        "test = []\n",
        "for i in range(len(y_test)):\n",
        "    test.append(np.argmax(y_test[i]))\n",
        "\n",
        "print(pred[:4])\n",
        "print(test[:4])"
      ],
      "metadata": {
        "colab": {
          "base_uri": "https://localhost:8080/"
        },
        "id": "pSvJICqTWnwH",
        "outputId": "0948bd32-7e8f-41f1-cd35-f27c4c704b89"
      },
      "execution_count": null,
      "outputs": [
        {
          "output_type": "stream",
          "name": "stdout",
          "text": [
            "[3, 0, 2, 2]\n",
            "[3, 0, 2, 2]\n"
          ]
        }
      ]
    },
    {
      "cell_type": "markdown",
      "source": [
        "#Evaluation"
      ],
      "metadata": {
        "id": "L2XXP-Q7XnpY"
      }
    },
    {
      "cell_type": "code",
      "source": [
        "from sklearn.metrics import accuracy_score\n",
        "\n",
        "accuracy_score(test,pred)"
      ],
      "metadata": {
        "colab": {
          "base_uri": "https://localhost:8080/"
        },
        "id": "ULEVGDT_XpjO",
        "outputId": "99229d6a-6ea4-4858-d804-daab41d6a2f9"
      },
      "execution_count": null,
      "outputs": [
        {
          "output_type": "execute_result",
          "data": {
            "text/plain": [
              "0.895"
            ]
          },
          "metadata": {},
          "execution_count": 25
        }
      ]
    },
    {
      "cell_type": "code",
      "source": [
        "from sklearn.metrics import classification_report\n",
        "\n",
        "print(classification_report(test,pred))"
      ],
      "metadata": {
        "colab": {
          "base_uri": "https://localhost:8080/"
        },
        "id": "kxlXOvd9X8JU",
        "outputId": "3c5c739d-df6f-4656-c019-f04ac4522ca0"
      },
      "execution_count": null,
      "outputs": [
        {
          "output_type": "stream",
          "name": "stdout",
          "text": [
            "              precision    recall  f1-score   support\n",
            "\n",
            "           0       0.93      0.95      0.94        42\n",
            "           1       0.94      0.90      0.92        50\n",
            "           2       0.80      0.87      0.84        47\n",
            "           3       0.91      0.87      0.89        61\n",
            "\n",
            "    accuracy                           0.90       200\n",
            "   macro avg       0.90      0.90      0.90       200\n",
            "weighted avg       0.90      0.90      0.90       200\n",
            "\n"
          ]
        }
      ]
    },
    {
      "cell_type": "code",
      "source": [
        "from sklearn.metrics import confusion_matrix\n",
        "\n",
        "confusion_matrix(test,pred)"
      ],
      "metadata": {
        "colab": {
          "base_uri": "https://localhost:8080/"
        },
        "id": "JaZadh7cYF_8",
        "outputId": "2a156f05-3cd9-456c-b95a-2c3854443272"
      },
      "execution_count": null,
      "outputs": [
        {
          "output_type": "execute_result",
          "data": {
            "text/plain": [
              "array([[40,  2,  0,  0],\n",
              "       [ 3, 45,  2,  0],\n",
              "       [ 0,  1, 41,  5],\n",
              "       [ 0,  0,  8, 53]])"
            ]
          },
          "metadata": {},
          "execution_count": 27
        }
      ]
    },
    {
      "cell_type": "code",
      "source": [
        "import seaborn as sns\n",
        "\n",
        "cm = confusion_matrix(test,pred)\n",
        "\n",
        "sns.heatmap(cm,annot=True,cmap='coolwarm')"
      ],
      "metadata": {
        "colab": {
          "base_uri": "https://localhost:8080/",
          "height": 282
        },
        "id": "vQpaOJVbYKyo",
        "outputId": "9c9b8274-8d1c-4d61-9917-4e5d20aaa261"
      },
      "execution_count": null,
      "outputs": [
        {
          "output_type": "execute_result",
          "data": {
            "text/plain": [
              "<matplotlib.axes._subplots.AxesSubplot at 0x7f116b800b50>"
            ]
          },
          "metadata": {},
          "execution_count": 28
        },
        {
          "output_type": "display_data",
          "data": {
            "image/png": "[encoded data removed]",
            "text/plain": [
              "<Figure size 432x288 with 2 Axes>"
            ]
          },
          "metadata": {
            "needs_background": "light"
          }
        }
      ]
    }
  ]
}