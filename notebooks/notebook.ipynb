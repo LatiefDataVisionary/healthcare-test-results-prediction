{
  "nbformat": 4,
  "nbformat_minor": 0,
  "metadata": {
    "colab": {
      "provenance": [],
      "toc_visible": true,
      "authorship_tag": "ABX9TyM5OlA3xnD2c3VWcXSYlc7x",
      "include_colab_link": true
    },
    "kernelspec": {
      "name": "python3",
      "display_name": "Python 3"
    },
    "language_info": {
      "name": "python"
    }
  },
  "cells": [
    {
      "cell_type": "markdown",
      "metadata": {
        "id": "view-in-github",
        "colab_type": "text"
      },
      "source": [
        "<a href=\"https://colab.research.google.com/github/LatiefDataVisionary/healthcare-test-results-prediction/blob/main/notebooks/notebook.ipynb\" target=\"_parent\"><img src=\"https://colab.research.google.com/assets/colab-badge.svg\" alt=\"Open In Colab\"/></a>"
      ]
    },
    {
      "cell_type": "markdown",
      "metadata": {
        "id": "080f3be1"
      },
      "source": [
        "## **Project Context**\n",
        "\n",
        "- **Project Title:** End-to-End Deep Learning for Medical Test Result Prediction\n",
        "- **Project Objective:** To build a Deep Neural Network (DNN) model using Keras for multi-class classification on the 'Test Results' column.\n",
        "- **Dataset:** \"Healthcare Dataset\" from Kaggle. (Link: https://www.kaggle.com/datasets/prasad22/healthcare-dataset/data)\n",
        "- **Target Column:** Test Results (has 3 categories: 'Normal', 'Abnormal', 'Inconclusive').\n",
        "* **Key Technologies:** Python, Pandas, NumPy, Matplotlib, Seaborn, Scikit-learn, TensorFlow (Keras)."
      ]
    },
    {
      "cell_type": "markdown",
      "metadata": {
        "id": "464a1c6e"
      },
      "source": [
        "## **Part 0: Environment Setup**\n",
        "\n",
        "In this initial section, we prepare our digital workspace. This involves importing all necessary libraries for data manipulation, visualization, and deep learning, as well as configuring notebook settings for optimal display and reproducibility."
      ]
    },
    {
      "cell_type": "markdown",
      "source": [
        "### **0.1. Import Core Libraries**"
      ],
      "metadata": {
        "id": "5yVR9YfDy-R6"
      }
    },
    {
      "cell_type": "code",
      "metadata": {
        "id": "e2e343a6"
      },
      "source": [
        "# Data Manipulation\n",
        "import pandas as pd\n",
        "import numpy as np\n",
        "\n",
        "# Visualization\n",
        "import matplotlib.pyplot as plt\n",
        "import seaborn as sns\n",
        "\n",
        "# Deep Learning\n",
        "import tensorflow as tf\n",
        "from tensorflow.keras.models import Sequential\n",
        "from tensorflow.keras.layers import Dense, Dropout\n",
        "\n",
        "# Machine Learning Utilities\n",
        "from sklearn.model_selection import train_test_split\n",
        "from sklearn.preprocessing import StandardScaler, OneHotEncoder\n",
        "from sklearn.compose import ColumnTransformer\n",
        "from sklearn.pipeline import Pipeline\n",
        "from sklearn.metrics import classification_report, confusion_matrix"
      ],
      "execution_count": 21,
      "outputs": []
    },
    {
      "cell_type": "markdown",
      "source": [
        "### **0.2. Configuration and Helper Functions**"
      ],
      "metadata": {
        "id": "LoNaEQJAzBjx"
      }
    },
    {
      "cell_type": "code",
      "metadata": {
        "id": "4061c7a5"
      },
      "source": [
        "# Set visualization style\n",
        "sns.set_style('whitegrid')\n",
        "\n",
        "# Set pandas options to display all columns\n",
        "pd.set_option('display.max_columns', None)\n",
        "\n",
        "# Set random seeds for reproducibility\n",
        "np.random.seed(42)\n",
        "tf.random.set_seed(42)"
      ],
      "execution_count": 22,
      "outputs": []
    },
    {
      "cell_type": "markdown",
      "metadata": {
        "id": "889b4daf"
      },
      "source": [
        "## **Part 1: Data Loading & Initial Inspection** 🚀\n",
        "\n",
        "Here, we will load the dataset and perform a high-level \"first look\" to grasp its structure, size, and content."
      ]
    },
    {
      "cell_type": "markdown",
      "source": [
        "### **1.1. Load Dataset**"
      ],
      "metadata": {
        "id": "ytyKPMOhzOIY"
      }
    },
    {
      "cell_type": "code",
      "metadata": {
        "id": "c7a7e87a"
      },
      "source": [
        "# Load the dataset from the provided URL into a pandas DataFrame\n",
        "# This dataset is hosted on my GitHub, so we can read it directly using the raw content URL.\n",
        "df = pd.read_csv('https://raw.githubusercontent.com/LatiefDataVisionary/healthcare-test-results-prediction/refs/heads/main/data/raw/healthcare_dataset.csv')"
      ],
      "execution_count": 23,
      "outputs": []
    },
    {
      "cell_type": "markdown",
      "source": [
        "### **1.2. Initial Inspection**"
      ],
      "metadata": {
        "id": "T3LJhHGZzSCL"
      }
    },
    {
      "cell_type": "markdown",
      "source": [
        "Display the first 10 rows of the DataFrame to get a glimpse of the data"
      ],
      "metadata": {
        "id": "zJd2bxb5ze3p"
      }
    },
    {
      "cell_type": "code",
      "source": [
        "df.head(10)"
      ],
      "metadata": {
        "colab": {
          "base_uri": "https://localhost:8080/",
          "height": 626
        },
        "id": "W6vEj-29zgYK",
        "outputId": "bd71e470-bef8-4fb1-f768-6a1ec47a5cee"
      },
      "execution_count": 24,
      "outputs": [
        {
          "output_type": "execute_result",
          "data": {
            "text/plain": [
              "                 Name  Age  Gender Blood Type Medical Condition  \\\n",
              "0       Bobby JacksOn   30    Male         B-            Cancer   \n",
              "1        LesLie TErRy   62    Male         A+           Obesity   \n",
              "2         DaNnY sMitH   76  Female         A-           Obesity   \n",
              "3        andrEw waTtS   28  Female         O+          Diabetes   \n",
              "4       adrIENNE bEll   43  Female        AB+            Cancer   \n",
              "5       EMILY JOHNSOn   36    Male         A+            Asthma   \n",
              "6      edwArD EDWaRDs   21  Female        AB-          Diabetes   \n",
              "7  CHrisTInA MARtinez   20  Female         A+            Cancer   \n",
              "8     JASmINe aGuIlaR   82    Male        AB+            Asthma   \n",
              "9    ChRISTopher BerG   58  Female        AB-            Cancer   \n",
              "\n",
              "  Date of Admission            Doctor                     Hospital  \\\n",
              "0        2024-01-31     Matthew Smith              Sons and Miller   \n",
              "1        2019-08-20   Samantha Davies                      Kim Inc   \n",
              "2        2022-09-22  Tiffany Mitchell                     Cook PLC   \n",
              "3        2020-11-18       Kevin Wells   Hernandez Rogers and Vang,   \n",
              "4        2022-09-19    Kathleen Hanna                  White-White   \n",
              "5        2023-12-20     Taylor Newton               Nunez-Humphrey   \n",
              "6        2020-11-03       Kelly Olson              Group Middleton   \n",
              "7        2021-12-28    Suzanne Thomas  Powell Robinson and Valdez,   \n",
              "8        2020-07-01   Daniel Ferguson                Sons Rich and   \n",
              "9        2021-05-23       Heather Day               Padilla-Walker   \n",
              "\n",
              "  Insurance Provider  Billing Amount  Room Number Admission Type  \\\n",
              "0         Blue Cross    18856.281306          328         Urgent   \n",
              "1           Medicare    33643.327287          265      Emergency   \n",
              "2              Aetna    27955.096079          205      Emergency   \n",
              "3           Medicare    37909.782410          450       Elective   \n",
              "4              Aetna    14238.317814          458         Urgent   \n",
              "5   UnitedHealthcare    48145.110951          389         Urgent   \n",
              "6           Medicare    19580.872345          389      Emergency   \n",
              "7              Cigna    45820.462722          277      Emergency   \n",
              "8              Cigna    50119.222792          316       Elective   \n",
              "9   UnitedHealthcare    19784.631062          249       Elective   \n",
              "\n",
              "  Discharge Date   Medication  Test Results  \n",
              "0     2024-02-02  Paracetamol        Normal  \n",
              "1     2019-08-26    Ibuprofen  Inconclusive  \n",
              "2     2022-10-07      Aspirin        Normal  \n",
              "3     2020-12-18    Ibuprofen      Abnormal  \n",
              "4     2022-10-09   Penicillin      Abnormal  \n",
              "5     2023-12-24    Ibuprofen        Normal  \n",
              "6     2020-11-15  Paracetamol  Inconclusive  \n",
              "7     2022-01-07  Paracetamol  Inconclusive  \n",
              "8     2020-07-14      Aspirin      Abnormal  \n",
              "9     2021-06-22  Paracetamol  Inconclusive  "
            ],
            "text/html": [
              "\n",
              "  <div id=\"df-1b1a59b9-4df7-4bcc-bf3e-9536159daf5a\" class=\"colab-df-container\">\n",
              "    <div>\n",
              "<style scoped>\n",
              "    .dataframe tbody tr th:only-of-type {\n",
              "        vertical-align: middle;\n",
              "    }\n",
              "\n",
              "    .dataframe tbody tr th {\n",
              "        vertical-align: top;\n",
              "    }\n",
              "\n",
              "    .dataframe thead th {\n",
              "        text-align: right;\n",
              "    }\n",
              "</style>\n",
              "<table border=\"1\" class=\"dataframe\">\n",
              "  <thead>\n",
              "    <tr style=\"text-align: right;\">\n",
              "      <th></th>\n",
              "      <th>Name</th>\n",
              "      <th>Age</th>\n",
              "      <th>Gender</th>\n",
              "      <th>Blood Type</th>\n",
              "      <th>Medical Condition</th>\n",
              "      <th>Date of Admission</th>\n",
              "      <th>Doctor</th>\n",
              "      <th>Hospital</th>\n",
              "      <th>Insurance Provider</th>\n",
              "      <th>Billing Amount</th>\n",
              "      <th>Room Number</th>\n",
              "      <th>Admission Type</th>\n",
              "      <th>Discharge Date</th>\n",
              "      <th>Medication</th>\n",
              "      <th>Test Results</th>\n",
              "    </tr>\n",
              "  </thead>\n",
              "  <tbody>\n",
              "    <tr>\n",
              "      <th>0</th>\n",
              "      <td>Bobby JacksOn</td>\n",
              "      <td>30</td>\n",
              "      <td>Male</td>\n",
              "      <td>B-</td>\n",
              "      <td>Cancer</td>\n",
              "      <td>2024-01-31</td>\n",
              "      <td>Matthew Smith</td>\n",
              "      <td>Sons and Miller</td>\n",
              "      <td>Blue Cross</td>\n",
              "      <td>18856.281306</td>\n",
              "      <td>328</td>\n",
              "      <td>Urgent</td>\n",
              "      <td>2024-02-02</td>\n",
              "      <td>Paracetamol</td>\n",
              "      <td>Normal</td>\n",
              "    </tr>\n",
              "    <tr>\n",
              "      <th>1</th>\n",
              "      <td>LesLie TErRy</td>\n",
              "      <td>62</td>\n",
              "      <td>Male</td>\n",
              "      <td>A+</td>\n",
              "      <td>Obesity</td>\n",
              "      <td>2019-08-20</td>\n",
              "      <td>Samantha Davies</td>\n",
              "      <td>Kim Inc</td>\n",
              "      <td>Medicare</td>\n",
              "      <td>33643.327287</td>\n",
              "      <td>265</td>\n",
              "      <td>Emergency</td>\n",
              "      <td>2019-08-26</td>\n",
              "      <td>Ibuprofen</td>\n",
              "      <td>Inconclusive</td>\n",
              "    </tr>\n",
              "    <tr>\n",
              "      <th>2</th>\n",
              "      <td>DaNnY sMitH</td>\n",
              "      <td>76</td>\n",
              "      <td>Female</td>\n",
              "      <td>A-</td>\n",
              "      <td>Obesity</td>\n",
              "      <td>2022-09-22</td>\n",
              "      <td>Tiffany Mitchell</td>\n",
              "      <td>Cook PLC</td>\n",
              "      <td>Aetna</td>\n",
              "      <td>27955.096079</td>\n",
              "      <td>205</td>\n",
              "      <td>Emergency</td>\n",
              "      <td>2022-10-07</td>\n",
              "      <td>Aspirin</td>\n",
              "      <td>Normal</td>\n",
              "    </tr>\n",
              "    <tr>\n",
              "      <th>3</th>\n",
              "      <td>andrEw waTtS</td>\n",
              "      <td>28</td>\n",
              "      <td>Female</td>\n",
              "      <td>O+</td>\n",
              "      <td>Diabetes</td>\n",
              "      <td>2020-11-18</td>\n",
              "      <td>Kevin Wells</td>\n",
              "      <td>Hernandez Rogers and Vang,</td>\n",
              "      <td>Medicare</td>\n",
              "      <td>37909.782410</td>\n",
              "      <td>450</td>\n",
              "      <td>Elective</td>\n",
              "      <td>2020-12-18</td>\n",
              "      <td>Ibuprofen</td>\n",
              "      <td>Abnormal</td>\n",
              "    </tr>\n",
              "    <tr>\n",
              "      <th>4</th>\n",
              "      <td>adrIENNE bEll</td>\n",
              "      <td>43</td>\n",
              "      <td>Female</td>\n",
              "      <td>AB+</td>\n",
              "      <td>Cancer</td>\n",
              "      <td>2022-09-19</td>\n",
              "      <td>Kathleen Hanna</td>\n",
              "      <td>White-White</td>\n",
              "      <td>Aetna</td>\n",
              "      <td>14238.317814</td>\n",
              "      <td>458</td>\n",
              "      <td>Urgent</td>\n",
              "      <td>2022-10-09</td>\n",
              "      <td>Penicillin</td>\n",
              "      <td>Abnormal</td>\n",
              "    </tr>\n",
              "    <tr>\n",
              "      <th>5</th>\n",
              "      <td>EMILY JOHNSOn</td>\n",
              "      <td>36</td>\n",
              "      <td>Male</td>\n",
              "      <td>A+</td>\n",
              "      <td>Asthma</td>\n",
              "      <td>2023-12-20</td>\n",
              "      <td>Taylor Newton</td>\n",
              "      <td>Nunez-Humphrey</td>\n",
              "      <td>UnitedHealthcare</td>\n",
              "      <td>48145.110951</td>\n",
              "      <td>389</td>\n",
              "      <td>Urgent</td>\n",
              "      <td>2023-12-24</td>\n",
              "      <td>Ibuprofen</td>\n",
              "      <td>Normal</td>\n",
              "    </tr>\n",
              "    <tr>\n",
              "      <th>6</th>\n",
              "      <td>edwArD EDWaRDs</td>\n",
              "      <td>21</td>\n",
              "      <td>Female</td>\n",
              "      <td>AB-</td>\n",
              "      <td>Diabetes</td>\n",
              "      <td>2020-11-03</td>\n",
              "      <td>Kelly Olson</td>\n",
              "      <td>Group Middleton</td>\n",
              "      <td>Medicare</td>\n",
              "      <td>19580.872345</td>\n",
              "      <td>389</td>\n",
              "      <td>Emergency</td>\n",
              "      <td>2020-11-15</td>\n",
              "      <td>Paracetamol</td>\n",
              "      <td>Inconclusive</td>\n",
              "    </tr>\n",
              "    <tr>\n",
              "      <th>7</th>\n",
              "      <td>CHrisTInA MARtinez</td>\n",
              "      <td>20</td>\n",
              "      <td>Female</td>\n",
              "      <td>A+</td>\n",
              "      <td>Cancer</td>\n",
              "      <td>2021-12-28</td>\n",
              "      <td>Suzanne Thomas</td>\n",
              "      <td>Powell Robinson and Valdez,</td>\n",
              "      <td>Cigna</td>\n",
              "      <td>45820.462722</td>\n",
              "      <td>277</td>\n",
              "      <td>Emergency</td>\n",
              "      <td>2022-01-07</td>\n",
              "      <td>Paracetamol</td>\n",
              "      <td>Inconclusive</td>\n",
              "    </tr>\n",
              "    <tr>\n",
              "      <th>8</th>\n",
              "      <td>JASmINe aGuIlaR</td>\n",
              "      <td>82</td>\n",
              "      <td>Male</td>\n",
              "      <td>AB+</td>\n",
              "      <td>Asthma</td>\n",
              "      <td>2020-07-01</td>\n",
              "      <td>Daniel Ferguson</td>\n",
              "      <td>Sons Rich and</td>\n",
              "      <td>Cigna</td>\n",
              "      <td>50119.222792</td>\n",
              "      <td>316</td>\n",
              "      <td>Elective</td>\n",
              "      <td>2020-07-14</td>\n",
              "      <td>Aspirin</td>\n",
              "      <td>Abnormal</td>\n",
              "    </tr>\n",
              "    <tr>\n",
              "      <th>9</th>\n",
              "      <td>ChRISTopher BerG</td>\n",
              "      <td>58</td>\n",
              "      <td>Female</td>\n",
              "      <td>AB-</td>\n",
              "      <td>Cancer</td>\n",
              "      <td>2021-05-23</td>\n",
              "      <td>Heather Day</td>\n",
              "      <td>Padilla-Walker</td>\n",
              "      <td>UnitedHealthcare</td>\n",
              "      <td>19784.631062</td>\n",
              "      <td>249</td>\n",
              "      <td>Elective</td>\n",
              "      <td>2021-06-22</td>\n",
              "      <td>Paracetamol</td>\n",
              "      <td>Inconclusive</td>\n",
              "    </tr>\n",
              "  </tbody>\n",
              "</table>\n",
              "</div>\n",
              "    <div class=\"colab-df-buttons\">\n",
              "      \n",
              "  <div class=\"colab-df-container\">\n",
              "    <button class=\"colab-df-convert\" onclick=\"convertToInteractive('df-1b1a59b9-4df7-4bcc-bf3e-9536159daf5a')\"\n",
              "            title=\"Convert this dataframe to an interactive table.\"\n",
              "            style=\"display:none;\">\n",
              "      \n",
              "  <svg xmlns=\"http://www.w3.org/2000/svg\" height=\"24px\" viewBox=\"0 -960 960 960\">\n",
              "    <path d=\"M120-120v-720h720v720H120Zm60-500h600v-160H180v160Zm220 220h160v-160H400v160Zm0 220h160v-160H400v160ZM180-400h160v-160H180v160Zm440 0h160v-160H620v160ZM180-180h160v-160H180v160Zm440 0h160v-160H620v160Z\"/>\n",
              "  </svg>\n",
              "    </button>\n",
              "    \n",
              "  <style>\n",
              "    .colab-df-container {\n",
              "      display:flex;\n",
              "      gap: 12px;\n",
              "    }\n",
              "\n",
              "    .colab-df-convert {\n",
              "      background-color: #E8F0FE;\n",
              "      border: none;\n",
              "      border-radius: 50%;\n",
              "      cursor: pointer;\n",
              "      display: none;\n",
              "      fill: #1967D2;\n",
              "      height: 32px;\n",
              "      padding: 0 0 0 0;\n",
              "      width: 32px;\n",
              "    }\n",
              "\n",
              "    .colab-df-convert:hover {\n",
              "      background-color: #E2EBFA;\n",
              "      box-shadow: 0px 1px 2px rgba(60, 64, 67, 0.3), 0px 1px 3px 1px rgba(60, 64, 67, 0.15);\n",
              "      fill: #174EA6;\n",
              "    }\n",
              "\n",
              "    .colab-df-buttons div {\n",
              "      margin-bottom: 4px;\n",
              "    }\n",
              "\n",
              "    [theme=dark] .colab-df-convert {\n",
              "      background-color: #3B4455;\n",
              "      fill: #D2E3FC;\n",
              "    }\n",
              "\n",
              "    [theme=dark] .colab-df-convert:hover {\n",
              "      background-color: #434B5C;\n",
              "      box-shadow: 0px 1px 3px 1px rgba(0, 0, 0, 0.15);\n",
              "      filter: drop-shadow(0px 1px 2px rgba(0, 0, 0, 0.3));\n",
              "      fill: #FFFFFF;\n",
              "    }\n",
              "  </style>\n",
              "\n",
              "    <script>\n",
              "      const buttonEl =\n",
              "        document.querySelector('#df-1b1a59b9-4df7-4bcc-bf3e-9536159daf5a button.colab-df-convert');\n",
              "      buttonEl.style.display =\n",
              "        google.colab.kernel.accessAllowed ? 'block' : 'none';\n",
              "\n",
              "      async function convertToInteractive(key) {\n",
              "        const element = document.querySelector('#df-1b1a59b9-4df7-4bcc-bf3e-9536159daf5a');\n",
              "        const dataTable =\n",
              "          await google.colab.kernel.invokeFunction('convertToInteractive',\n",
              "                                                    [key], {});\n",
              "        if (!dataTable) return;\n",
              "\n",
              "        const docLinkHtml = 'Like what you see? Visit the ' +\n",
              "          '<a target=\"_blank\" href=https://colab.research.google.com/notebooks/data_table.ipynb>data table notebook</a>'\n",
              "          + ' to learn more about interactive tables.';\n",
              "        element.innerHTML = '';\n",
              "        dataTable['output_type'] = 'display_data';\n",
              "        await google.colab.output.renderOutput(dataTable, element);\n",
              "        const docLink = document.createElement('div');\n",
              "        docLink.innerHTML = docLinkHtml;\n",
              "        element.appendChild(docLink);\n",
              "      }\n",
              "    </script>\n",
              "  </div>\n",
              "  \n",
              "    </div>\n",
              "  </div>\n",
              "  "
            ]
          },
          "metadata": {},
          "execution_count": 24
        }
      ]
    },
    {
      "cell_type": "markdown",
      "source": [
        "Display concise summary of the DataFrame, including data types and non-null values"
      ],
      "metadata": {
        "id": "GXPRQGNszixb"
      }
    },
    {
      "cell_type": "code",
      "source": [
        "df.info()"
      ],
      "metadata": {
        "colab": {
          "base_uri": "https://localhost:8080/"
        },
        "id": "o0mgq4O0zlbr",
        "outputId": "a6b9ddad-a9d2-41ab-e1da-cf18a5f80117"
      },
      "execution_count": 25,
      "outputs": [
        {
          "output_type": "stream",
          "name": "stdout",
          "text": [
            "<class 'pandas.core.frame.DataFrame'>\n",
            "RangeIndex: 55500 entries, 0 to 55499\n",
            "Data columns (total 15 columns):\n",
            " #   Column              Non-Null Count  Dtype  \n",
            "---  ------              --------------  -----  \n",
            " 0   Name                55500 non-null  object \n",
            " 1   Age                 55500 non-null  int64  \n",
            " 2   Gender              55500 non-null  object \n",
            " 3   Blood Type          55500 non-null  object \n",
            " 4   Medical Condition   55500 non-null  object \n",
            " 5   Date of Admission   55500 non-null  object \n",
            " 6   Doctor              55500 non-null  object \n",
            " 7   Hospital            55500 non-null  object \n",
            " 8   Insurance Provider  55500 non-null  object \n",
            " 9   Billing Amount      55500 non-null  float64\n",
            " 10  Room Number         55500 non-null  int64  \n",
            " 11  Admission Type      55500 non-null  object \n",
            " 12  Discharge Date      55500 non-null  object \n",
            " 13  Medication          55500 non-null  object \n",
            " 14  Test Results        55500 non-null  object \n",
            "dtypes: float64(1), int64(2), object(12)\n",
            "memory usage: 6.4+ MB\n"
          ]
        }
      ]
    },
    {
      "cell_type": "markdown",
      "source": [
        "Display the dimensions (number of rows and columns) of the DataFrame"
      ],
      "metadata": {
        "id": "U2B61YhIzq6R"
      }
    },
    {
      "cell_type": "code",
      "source": [
        "df.shape"
      ],
      "metadata": {
        "colab": {
          "base_uri": "https://localhost:8080/"
        },
        "id": "W2yyeDhNzrg7",
        "outputId": "37e4f86a-b313-4dbb-fb48-a2b8267b875f"
      },
      "execution_count": 26,
      "outputs": [
        {
          "output_type": "execute_result",
          "data": {
            "text/plain": [
              "(55500, 15)"
            ]
          },
          "metadata": {},
          "execution_count": 26
        }
      ]
    },
    {
      "cell_type": "markdown",
      "source": [
        "Inspect Unique Values in Each Column"
      ],
      "metadata": {
        "id": "GfMf6Nm25r4C"
      }
    },
    {
      "cell_type": "code",
      "source": [
        "for col in df.columns:\n",
        "    unique_values = df[col].unique()\n",
        "    print(f\"Unique values in column '{col}': \\n\\t{unique_values}\\n\")"
      ],
      "metadata": {
        "colab": {
          "base_uri": "https://localhost:8080/"
        },
        "id": "SRataqCD5sTY",
        "outputId": "e35c14f5-be63-4988-b4fa-b9264c056dd7"
      },
      "execution_count": 27,
      "outputs": [
        {
          "output_type": "stream",
          "name": "stdout",
          "text": [
            "Unique values in column 'Name': \n",
            "\t['Bobby JacksOn' 'LesLie TErRy' 'DaNnY sMitH' ... 'LiSa sIMPsoN'\n",
            " 'RoGER farRELl' 'kaTheRIne WeBSTer']\n",
            "\n",
            "Unique values in column 'Age': \n",
            "\t[30 62 76 28 43 36 21 20 82 58 72 38 75 68 44 46 63 34 67 48 59 73 51 23\n",
            " 78 25 33 26 70 57 74 81 49 65 31 22 77 42 24 84 55 40 83 18 27 19 29 61\n",
            " 80 60 35 79 53 69 47 85 52 37 50 32 54 45 66 39 56 64 71 41 88 17 87 86\n",
            " 15 16 13 14 89]\n",
            "\n",
            "Unique values in column 'Gender': \n",
            "\t['Male' 'Female']\n",
            "\n",
            "Unique values in column 'Blood Type': \n",
            "\t['B-' 'A+' 'A-' 'O+' 'AB+' 'AB-' 'B+' 'O-']\n",
            "\n",
            "Unique values in column 'Medical Condition': \n",
            "\t['Cancer' 'Obesity' 'Diabetes' 'Asthma' 'Hypertension' 'Arthritis']\n",
            "\n",
            "Unique values in column 'Date of Admission': \n",
            "\t['2024-01-31' '2019-08-20' '2022-09-22' ... '2019-05-31' '2023-10-12'\n",
            " '2021-03-14']\n",
            "\n",
            "Unique values in column 'Doctor': \n",
            "\t['Matthew Smith' 'Samantha Davies' 'Tiffany Mitchell' ... 'Deborah Sutton'\n",
            " 'Mary Bartlett' 'Alec May']\n",
            "\n",
            "Unique values in column 'Hospital': \n",
            "\t['Sons and Miller' 'Kim Inc' 'Cook PLC' ... 'Guzman Jones and Graves,'\n",
            " 'and Williams, Brown Mckenzie' 'Moreno Murphy, Griffith and']\n",
            "\n",
            "Unique values in column 'Insurance Provider': \n",
            "\t['Blue Cross' 'Medicare' 'Aetna' 'UnitedHealthcare' 'Cigna']\n",
            "\n",
            "Unique values in column 'Billing Amount': \n",
            "\t[18856.28130598 33643.32728658 27955.09607884 ...  8441.14706442\n",
            " 34934.2841126   8926.28593733]\n",
            "\n",
            "Unique values in column 'Room Number': \n",
            "\t[328 265 205 450 458 389 277 316 249 394 288 134 309 182 465 114 449 260\n",
            " 115 295 327 119 109 162 401 157 223 293 371 108 245 494 285 228 481 212\n",
            " 113 272 478 196 418 410 300 211 413 138 456 234 492 180 250 296 330 405\n",
            " 306 333 244 325 378 468 368 263 489 241 231 377 407 135 131 102 255 422\n",
            " 320 273 395 152 321 428 482 268 120 318 144 226 459 208 227 402 442 425\n",
            " 373 290 361 251 440 414 424 307 476 388 326 178 177 302 130 430 133 104\n",
            " 408 376 331 275 480 233 384 380 310 406 213 427 500 451 485 267 154 466\n",
            " 453 261 167 179 490 258 483 202 198 308 278 103 400 192 128 238 136 218\n",
            " 348 486 147 126 314 271 341 498 168 189 438 286 266 392 156 315 322 184\n",
            " 472 398 435 174 137 111 464 117 493 183 471 164 356 497 421 488 317 247\n",
            " 158 242 151 221 359 370 141 343 319 121 166 397 186 299 101 142 181 282\n",
            " 350 262 210 391 195 214 409 279 243 106 467 176 287 124 352 165 347 354\n",
            " 225 357 140 404 426 236 194 188 415 185 358 390 112 283 439 123 469 230\n",
            " 171 484 256 365 452 172 197 110 437 419 416 461 431 105 313 385 116 386\n",
            " 175 270 338 360 252 215 434 374 217 366 118 387 237 355 364 169 301 463\n",
            " 382 232 455 462 393 423 264 289 342 292 146 193 148 441 199 216 132 475\n",
            " 436 403 433 206 207 375 159 304 349 396 445 276 298 129 209 420 324 443\n",
            " 254 470 346 496 448 280 335 411 200 312 305 345 145 203 362 454 191 339\n",
            " 477 219 412 379 340 170 190 363 491 487 334 125 332 224 204 323 248 297\n",
            " 311 201 143 107 303 329 122 337 457 274 246 294 161 336 383 187 229 291\n",
            " 155 173 353 281 446 399 479 429 150 253 149 369 220 127 153 474 372 381\n",
            " 473 351 259 257 367 222 460 447 495 344 163 139 444 284 499 432 269 160\n",
            " 240 239 417 235]\n",
            "\n",
            "Unique values in column 'Admission Type': \n",
            "\t['Urgent' 'Emergency' 'Elective']\n",
            "\n",
            "Unique values in column 'Discharge Date': \n",
            "\t['2024-02-02' '2019-08-26' '2022-10-07' ... '2019-05-09' '2024-05-31'\n",
            " '2024-06-06']\n",
            "\n",
            "Unique values in column 'Medication': \n",
            "\t['Paracetamol' 'Ibuprofen' 'Aspirin' 'Penicillin' 'Lipitor']\n",
            "\n",
            "Unique values in column 'Test Results': \n",
            "\t['Normal' 'Inconclusive' 'Abnormal']\n",
            "\n"
          ]
        }
      ]
    },
    {
      "cell_type": "markdown",
      "source": [
        "Check for missing values"
      ],
      "metadata": {
        "id": "psdScE3MzvKB"
      }
    },
    {
      "cell_type": "code",
      "source": [
        "df.isnull().sum()"
      ],
      "metadata": {
        "colab": {
          "base_uri": "https://localhost:8080/",
          "height": 554
        },
        "id": "jl1uoVP_zvp-",
        "outputId": "db2ce884-d3ad-4a72-cc16-e7d295d8cc48"
      },
      "execution_count": 28,
      "outputs": [
        {
          "output_type": "execute_result",
          "data": {
            "text/plain": [
              "Name                  0\n",
              "Age                   0\n",
              "Gender                0\n",
              "Blood Type            0\n",
              "Medical Condition     0\n",
              "Date of Admission     0\n",
              "Doctor                0\n",
              "Hospital              0\n",
              "Insurance Provider    0\n",
              "Billing Amount        0\n",
              "Room Number           0\n",
              "Admission Type        0\n",
              "Discharge Date        0\n",
              "Medication            0\n",
              "Test Results          0\n",
              "dtype: int64"
            ],
            "text/html": [
              "<div>\n",
              "<style scoped>\n",
              "    .dataframe tbody tr th:only-of-type {\n",
              "        vertical-align: middle;\n",
              "    }\n",
              "\n",
              "    .dataframe tbody tr th {\n",
              "        vertical-align: top;\n",
              "    }\n",
              "\n",
              "    .dataframe thead th {\n",
              "        text-align: right;\n",
              "    }\n",
              "</style>\n",
              "<table border=\"1\" class=\"dataframe\">\n",
              "  <thead>\n",
              "    <tr style=\"text-align: right;\">\n",
              "      <th></th>\n",
              "      <th>0</th>\n",
              "    </tr>\n",
              "  </thead>\n",
              "  <tbody>\n",
              "    <tr>\n",
              "      <th>Name</th>\n",
              "      <td>0</td>\n",
              "    </tr>\n",
              "    <tr>\n",
              "      <th>Age</th>\n",
              "      <td>0</td>\n",
              "    </tr>\n",
              "    <tr>\n",
              "      <th>Gender</th>\n",
              "      <td>0</td>\n",
              "    </tr>\n",
              "    <tr>\n",
              "      <th>Blood Type</th>\n",
              "      <td>0</td>\n",
              "    </tr>\n",
              "    <tr>\n",
              "      <th>Medical Condition</th>\n",
              "      <td>0</td>\n",
              "    </tr>\n",
              "    <tr>\n",
              "      <th>Date of Admission</th>\n",
              "      <td>0</td>\n",
              "    </tr>\n",
              "    <tr>\n",
              "      <th>Doctor</th>\n",
              "      <td>0</td>\n",
              "    </tr>\n",
              "    <tr>\n",
              "      <th>Hospital</th>\n",
              "      <td>0</td>\n",
              "    </tr>\n",
              "    <tr>\n",
              "      <th>Insurance Provider</th>\n",
              "      <td>0</td>\n",
              "    </tr>\n",
              "    <tr>\n",
              "      <th>Billing Amount</th>\n",
              "      <td>0</td>\n",
              "    </tr>\n",
              "    <tr>\n",
              "      <th>Room Number</th>\n",
              "      <td>0</td>\n",
              "    </tr>\n",
              "    <tr>\n",
              "      <th>Admission Type</th>\n",
              "      <td>0</td>\n",
              "    </tr>\n",
              "    <tr>\n",
              "      <th>Discharge Date</th>\n",
              "      <td>0</td>\n",
              "    </tr>\n",
              "    <tr>\n",
              "      <th>Medication</th>\n",
              "      <td>0</td>\n",
              "    </tr>\n",
              "    <tr>\n",
              "      <th>Test Results</th>\n",
              "      <td>0</td>\n",
              "    </tr>\n",
              "  </tbody>\n",
              "</table>\n",
              "</div><br><label><b>dtype:</b> int64</label>"
            ]
          },
          "metadata": {},
          "execution_count": 28
        }
      ]
    },
    {
      "cell_type": "markdown",
      "source": [
        "Check for duplicate rows"
      ],
      "metadata": {
        "id": "Ueea_2sEzy35"
      }
    },
    {
      "cell_type": "code",
      "source": [
        "df.duplicated().sum()"
      ],
      "metadata": {
        "colab": {
          "base_uri": "https://localhost:8080/"
        },
        "id": "EI0lBMzQzzKM",
        "outputId": "1fd3c07c-472b-4d56-aa69-f0bb9632959d"
      },
      "execution_count": 29,
      "outputs": [
        {
          "output_type": "execute_result",
          "data": {
            "text/plain": [
              "np.int64(534)"
            ]
          },
          "metadata": {},
          "execution_count": 29
        }
      ]
    },
    {
      "cell_type": "markdown",
      "source": [
        "### **1.3. Statistical Summary**"
      ],
      "metadata": {
        "id": "wS6VPhlpzZ6c"
      }
    },
    {
      "cell_type": "markdown",
      "source": [
        "Display statistical summary of the DataFrame, including descriptive statistics for all columns"
      ],
      "metadata": {
        "id": "WW8M1keo0Aid"
      }
    },
    {
      "cell_type": "code",
      "metadata": {
        "colab": {
          "base_uri": "https://localhost:8080/",
          "height": 449
        },
        "id": "cc67e7c6",
        "outputId": "12ad6203-92c6-481a-aa16-7457d42c282b"
      },
      "source": [
        "display(df.describe(include='all'))"
      ],
      "execution_count": 30,
      "outputs": [
        {
          "output_type": "display_data",
          "data": {
            "text/plain": [
              "               Name           Age Gender Blood Type Medical Condition  \\\n",
              "count         55500  55500.000000  55500      55500             55500   \n",
              "unique        49992           NaN      2          8                 6   \n",
              "top     DAvId muNoZ           NaN   Male         A-         Arthritis   \n",
              "freq              3           NaN  27774       6969              9308   \n",
              "mean            NaN     51.539459    NaN        NaN               NaN   \n",
              "std             NaN     19.602454    NaN        NaN               NaN   \n",
              "min             NaN     13.000000    NaN        NaN               NaN   \n",
              "25%             NaN     35.000000    NaN        NaN               NaN   \n",
              "50%             NaN     52.000000    NaN        NaN               NaN   \n",
              "75%             NaN     68.000000    NaN        NaN               NaN   \n",
              "max             NaN     89.000000    NaN        NaN               NaN   \n",
              "\n",
              "       Date of Admission         Doctor   Hospital Insurance Provider  \\\n",
              "count              55500          55500      55500              55500   \n",
              "unique              1827          40341      39876                  5   \n",
              "top           2024-03-16  Michael Smith  LLC Smith              Cigna   \n",
              "freq                  50             27         44              11249   \n",
              "mean                 NaN            NaN        NaN                NaN   \n",
              "std                  NaN            NaN        NaN                NaN   \n",
              "min                  NaN            NaN        NaN                NaN   \n",
              "25%                  NaN            NaN        NaN                NaN   \n",
              "50%                  NaN            NaN        NaN                NaN   \n",
              "75%                  NaN            NaN        NaN                NaN   \n",
              "max                  NaN            NaN        NaN                NaN   \n",
              "\n",
              "        Billing Amount   Room Number Admission Type Discharge Date Medication  \\\n",
              "count     55500.000000  55500.000000          55500          55500      55500   \n",
              "unique             NaN           NaN              3           1856          5   \n",
              "top                NaN           NaN       Elective     2020-03-15    Lipitor   \n",
              "freq               NaN           NaN          18655             53      11140   \n",
              "mean      25539.316097    301.134829            NaN            NaN        NaN   \n",
              "std       14211.454431    115.243069            NaN            NaN        NaN   \n",
              "min       -2008.492140    101.000000            NaN            NaN        NaN   \n",
              "25%       13241.224652    202.000000            NaN            NaN        NaN   \n",
              "50%       25538.069376    302.000000            NaN            NaN        NaN   \n",
              "75%       37820.508436    401.000000            NaN            NaN        NaN   \n",
              "max       52764.276736    500.000000            NaN            NaN        NaN   \n",
              "\n",
              "       Test Results  \n",
              "count         55500  \n",
              "unique            3  \n",
              "top        Abnormal  \n",
              "freq          18627  \n",
              "mean            NaN  \n",
              "std             NaN  \n",
              "min             NaN  \n",
              "25%             NaN  \n",
              "50%             NaN  \n",
              "75%             NaN  \n",
              "max             NaN  "
            ],
            "text/html": [
              "\n",
              "  <div id=\"df-7b9265ed-9d29-4729-9307-ad2439c53689\" class=\"colab-df-container\">\n",
              "    <div>\n",
              "<style scoped>\n",
              "    .dataframe tbody tr th:only-of-type {\n",
              "        vertical-align: middle;\n",
              "    }\n",
              "\n",
              "    .dataframe tbody tr th {\n",
              "        vertical-align: top;\n",
              "    }\n",
              "\n",
              "    .dataframe thead th {\n",
              "        text-align: right;\n",
              "    }\n",
              "</style>\n",
              "<table border=\"1\" class=\"dataframe\">\n",
              "  <thead>\n",
              "    <tr style=\"text-align: right;\">\n",
              "      <th></th>\n",
              "      <th>Name</th>\n",
              "      <th>Age</th>\n",
              "      <th>Gender</th>\n",
              "      <th>Blood Type</th>\n",
              "      <th>Medical Condition</th>\n",
              "      <th>Date of Admission</th>\n",
              "      <th>Doctor</th>\n",
              "      <th>Hospital</th>\n",
              "      <th>Insurance Provider</th>\n",
              "      <th>Billing Amount</th>\n",
              "      <th>Room Number</th>\n",
              "      <th>Admission Type</th>\n",
              "      <th>Discharge Date</th>\n",
              "      <th>Medication</th>\n",
              "      <th>Test Results</th>\n",
              "    </tr>\n",
              "  </thead>\n",
              "  <tbody>\n",
              "    <tr>\n",
              "      <th>count</th>\n",
              "      <td>55500</td>\n",
              "      <td>55500.000000</td>\n",
              "      <td>55500</td>\n",
              "      <td>55500</td>\n",
              "      <td>55500</td>\n",
              "      <td>55500</td>\n",
              "      <td>55500</td>\n",
              "      <td>55500</td>\n",
              "      <td>55500</td>\n",
              "      <td>55500.000000</td>\n",
              "      <td>55500.000000</td>\n",
              "      <td>55500</td>\n",
              "      <td>55500</td>\n",
              "      <td>55500</td>\n",
              "      <td>55500</td>\n",
              "    </tr>\n",
              "    <tr>\n",
              "      <th>unique</th>\n",
              "      <td>49992</td>\n",
              "      <td>NaN</td>\n",
              "      <td>2</td>\n",
              "      <td>8</td>\n",
              "      <td>6</td>\n",
              "      <td>1827</td>\n",
              "      <td>40341</td>\n",
              "      <td>39876</td>\n",
              "      <td>5</td>\n",
              "      <td>NaN</td>\n",
              "      <td>NaN</td>\n",
              "      <td>3</td>\n",
              "      <td>1856</td>\n",
              "      <td>5</td>\n",
              "      <td>3</td>\n",
              "    </tr>\n",
              "    <tr>\n",
              "      <th>top</th>\n",
              "      <td>DAvId muNoZ</td>\n",
              "      <td>NaN</td>\n",
              "      <td>Male</td>\n",
              "      <td>A-</td>\n",
              "      <td>Arthritis</td>\n",
              "      <td>2024-03-16</td>\n",
              "      <td>Michael Smith</td>\n",
              "      <td>LLC Smith</td>\n",
              "      <td>Cigna</td>\n",
              "      <td>NaN</td>\n",
              "      <td>NaN</td>\n",
              "      <td>Elective</td>\n",
              "      <td>2020-03-15</td>\n",
              "      <td>Lipitor</td>\n",
              "      <td>Abnormal</td>\n",
              "    </tr>\n",
              "    <tr>\n",
              "      <th>freq</th>\n",
              "      <td>3</td>\n",
              "      <td>NaN</td>\n",
              "      <td>27774</td>\n",
              "      <td>6969</td>\n",
              "      <td>9308</td>\n",
              "      <td>50</td>\n",
              "      <td>27</td>\n",
              "      <td>44</td>\n",
              "      <td>11249</td>\n",
              "      <td>NaN</td>\n",
              "      <td>NaN</td>\n",
              "      <td>18655</td>\n",
              "      <td>53</td>\n",
              "      <td>11140</td>\n",
              "      <td>18627</td>\n",
              "    </tr>\n",
              "    <tr>\n",
              "      <th>mean</th>\n",
              "      <td>NaN</td>\n",
              "      <td>51.539459</td>\n",
              "      <td>NaN</td>\n",
              "      <td>NaN</td>\n",
              "      <td>NaN</td>\n",
              "      <td>NaN</td>\n",
              "      <td>NaN</td>\n",
              "      <td>NaN</td>\n",
              "      <td>NaN</td>\n",
              "      <td>25539.316097</td>\n",
              "      <td>301.134829</td>\n",
              "      <td>NaN</td>\n",
              "      <td>NaN</td>\n",
              "      <td>NaN</td>\n",
              "      <td>NaN</td>\n",
              "    </tr>\n",
              "    <tr>\n",
              "      <th>std</th>\n",
              "      <td>NaN</td>\n",
              "      <td>19.602454</td>\n",
              "      <td>NaN</td>\n",
              "      <td>NaN</td>\n",
              "      <td>NaN</td>\n",
              "      <td>NaN</td>\n",
              "      <td>NaN</td>\n",
              "      <td>NaN</td>\n",
              "      <td>NaN</td>\n",
              "      <td>14211.454431</td>\n",
              "      <td>115.243069</td>\n",
              "      <td>NaN</td>\n",
              "      <td>NaN</td>\n",
              "      <td>NaN</td>\n",
              "      <td>NaN</td>\n",
              "    </tr>\n",
              "    <tr>\n",
              "      <th>min</th>\n",
              "      <td>NaN</td>\n",
              "      <td>13.000000</td>\n",
              "      <td>NaN</td>\n",
              "      <td>NaN</td>\n",
              "      <td>NaN</td>\n",
              "      <td>NaN</td>\n",
              "      <td>NaN</td>\n",
              "      <td>NaN</td>\n",
              "      <td>NaN</td>\n",
              "      <td>-2008.492140</td>\n",
              "      <td>101.000000</td>\n",
              "      <td>NaN</td>\n",
              "      <td>NaN</td>\n",
              "      <td>NaN</td>\n",
              "      <td>NaN</td>\n",
              "    </tr>\n",
              "    <tr>\n",
              "      <th>25%</th>\n",
              "      <td>NaN</td>\n",
              "      <td>35.000000</td>\n",
              "      <td>NaN</td>\n",
              "      <td>NaN</td>\n",
              "      <td>NaN</td>\n",
              "      <td>NaN</td>\n",
              "      <td>NaN</td>\n",
              "      <td>NaN</td>\n",
              "      <td>NaN</td>\n",
              "      <td>13241.224652</td>\n",
              "      <td>202.000000</td>\n",
              "      <td>NaN</td>\n",
              "      <td>NaN</td>\n",
              "      <td>NaN</td>\n",
              "      <td>NaN</td>\n",
              "    </tr>\n",
              "    <tr>\n",
              "      <th>50%</th>\n",
              "      <td>NaN</td>\n",
              "      <td>52.000000</td>\n",
              "      <td>NaN</td>\n",
              "      <td>NaN</td>\n",
              "      <td>NaN</td>\n",
              "      <td>NaN</td>\n",
              "      <td>NaN</td>\n",
              "      <td>NaN</td>\n",
              "      <td>NaN</td>\n",
              "      <td>25538.069376</td>\n",
              "      <td>302.000000</td>\n",
              "      <td>NaN</td>\n",
              "      <td>NaN</td>\n",
              "      <td>NaN</td>\n",
              "      <td>NaN</td>\n",
              "    </tr>\n",
              "    <tr>\n",
              "      <th>75%</th>\n",
              "      <td>NaN</td>\n",
              "      <td>68.000000</td>\n",
              "      <td>NaN</td>\n",
              "      <td>NaN</td>\n",
              "      <td>NaN</td>\n",
              "      <td>NaN</td>\n",
              "      <td>NaN</td>\n",
              "      <td>NaN</td>\n",
              "      <td>NaN</td>\n",
              "      <td>37820.508436</td>\n",
              "      <td>401.000000</td>\n",
              "      <td>NaN</td>\n",
              "      <td>NaN</td>\n",
              "      <td>NaN</td>\n",
              "      <td>NaN</td>\n",
              "    </tr>\n",
              "    <tr>\n",
              "      <th>max</th>\n",
              "      <td>NaN</td>\n",
              "      <td>89.000000</td>\n",
              "      <td>NaN</td>\n",
              "      <td>NaN</td>\n",
              "      <td>NaN</td>\n",
              "      <td>NaN</td>\n",
              "      <td>NaN</td>\n",
              "      <td>NaN</td>\n",
              "      <td>NaN</td>\n",
              "      <td>52764.276736</td>\n",
              "      <td>500.000000</td>\n",
              "      <td>NaN</td>\n",
              "      <td>NaN</td>\n",
              "      <td>NaN</td>\n",
              "      <td>NaN</td>\n",
              "    </tr>\n",
              "  </tbody>\n",
              "</table>\n",
              "</div>\n",
              "    <div class=\"colab-df-buttons\">\n",
              "      \n",
              "  <div class=\"colab-df-container\">\n",
              "    <button class=\"colab-df-convert\" onclick=\"convertToInteractive('df-7b9265ed-9d29-4729-9307-ad2439c53689')\"\n",
              "            title=\"Convert this dataframe to an interactive table.\"\n",
              "            style=\"display:none;\">\n",
              "      \n",
              "  <svg xmlns=\"http://www.w3.org/2000/svg\" height=\"24px\" viewBox=\"0 -960 960 960\">\n",
              "    <path d=\"M120-120v-720h720v720H120Zm60-500h600v-160H180v160Zm220 220h160v-160H400v160Zm0 220h160v-160H400v160ZM180-400h160v-160H180v160Zm440 0h160v-160H620v160ZM180-180h160v-160H180v160Zm440 0h160v-160H620v160Z\"/>\n",
              "  </svg>\n",
              "    </button>\n",
              "    \n",
              "  <style>\n",
              "    .colab-df-container {\n",
              "      display:flex;\n",
              "      gap: 12px;\n",
              "    }\n",
              "\n",
              "    .colab-df-convert {\n",
              "      background-color: #E8F0FE;\n",
              "      border: none;\n",
              "      border-radius: 50%;\n",
              "      cursor: pointer;\n",
              "      display: none;\n",
              "      fill: #1967D2;\n",
              "      height: 32px;\n",
              "      padding: 0 0 0 0;\n",
              "      width: 32px;\n",
              "    }\n",
              "\n",
              "    .colab-df-convert:hover {\n",
              "      background-color: #E2EBFA;\n",
              "      box-shadow: 0px 1px 2px rgba(60, 64, 67, 0.3), 0px 1px 3px 1px rgba(60, 64, 67, 0.15);\n",
              "      fill: #174EA6;\n",
              "    }\n",
              "\n",
              "    .colab-df-buttons div {\n",
              "      margin-bottom: 4px;\n",
              "    }\n",
              "\n",
              "    [theme=dark] .colab-df-convert {\n",
              "      background-color: #3B4455;\n",
              "      fill: #D2E3FC;\n",
              "    }\n",
              "\n",
              "    [theme=dark] .colab-df-convert:hover {\n",
              "      background-color: #434B5C;\n",
              "      box-shadow: 0px 1px 3px 1px rgba(0, 0, 0, 0.15);\n",
              "      filter: drop-shadow(0px 1px 2px rgba(0, 0, 0, 0.3));\n",
              "      fill: #FFFFFF;\n",
              "    }\n",
              "  </style>\n",
              "\n",
              "    <script>\n",
              "      const buttonEl =\n",
              "        document.querySelector('#df-7b9265ed-9d29-4729-9307-ad2439c53689 button.colab-df-convert');\n",
              "      buttonEl.style.display =\n",
              "        google.colab.kernel.accessAllowed ? 'block' : 'none';\n",
              "\n",
              "      async function convertToInteractive(key) {\n",
              "        const element = document.querySelector('#df-7b9265ed-9d29-4729-9307-ad2439c53689');\n",
              "        const dataTable =\n",
              "          await google.colab.kernel.invokeFunction('convertToInteractive',\n",
              "                                                    [key], {});\n",
              "        if (!dataTable) return;\n",
              "\n",
              "        const docLinkHtml = 'Like what you see? Visit the ' +\n",
              "          '<a target=\"_blank\" href=https://colab.research.google.com/notebooks/data_table.ipynb>data table notebook</a>'\n",
              "          + ' to learn more about interactive tables.';\n",
              "        element.innerHTML = '';\n",
              "        dataTable['output_type'] = 'display_data';\n",
              "        await google.colab.output.renderOutput(dataTable, element);\n",
              "        const docLink = document.createElement('div');\n",
              "        docLink.innerHTML = docLinkHtml;\n",
              "        element.appendChild(docLink);\n",
              "      }\n",
              "    </script>\n",
              "  </div>\n",
              "  \n",
              "    </div>\n",
              "  </div>\n",
              "  "
            ]
          },
          "metadata": {}
        }
      ]
    },
    {
      "cell_type": "markdown",
      "metadata": {
        "id": "06f0c91b"
      },
      "source": [
        "## **Part 2: Exploratory Data Analysis (EDA)** 📊\n",
        "\n",
        "Through visualization and statistical analysis, we aim to uncover patterns, identify anomalies, and understand the relationships between different variables and our target variable, Test Results."
      ]
    },
    {
      "cell_type": "markdown",
      "source": [
        "### **2.1. Target Variable Analysis**"
      ],
      "metadata": {
        "id": "BSNIsJhf0igk"
      }
    },
    {
      "cell_type": "markdown",
      "source": [
        "Create a countplot to visualize the distribution of the target variable 'Test Results'"
      ],
      "metadata": {
        "id": "xDKGTCdh0lwI"
      }
    },
    {
      "cell_type": "code",
      "source": [
        "plt.figure(figsize=(8, 6))\n",
        "sns.countplot(data=df, x='Test Results', palette='viridis')\n",
        "plt.title('Distribution of Test Results (Count)')\n",
        "plt.xlabel('Test Results')\n",
        "plt.ylabel('Count')\n",
        "plt.show()"
      ],
      "metadata": {
        "colab": {
          "base_uri": "https://localhost:8080/",
          "height": 606
        },
        "id": "BzlbOmno25iT",
        "outputId": "39fb6b67-530b-42e5-c2ad-b1078b45a039"
      },
      "execution_count": 31,
      "outputs": [
        {
          "output_type": "stream",
          "name": "stderr",
          "text": [
            "/tmp/ipython-input-29353002.py:2: FutureWarning: \n",
            "\n",
            "Passing `palette` without assigning `hue` is deprecated and will be removed in v0.14.0. Assign the `x` variable to `hue` and set `legend=False` for the same effect.\n",
            "\n",
            "  sns.countplot(data=df, x='Test Results', palette='viridis')\n"
          ]
        },
        {
          "output_type": "display_data",
          "data": {
            "text/plain": [
              "<Figure size 800x600 with 1 Axes>"
            ],
            "image/png": "[encoded data removed]"
          },
          "metadata": {}
        }
      ]
    },
    {
      "cell_type": "markdown",
      "source": [
        "Calculate and display the distribution of the target variable (count and percentage)"
      ],
      "metadata": {
        "id": "xIv0Y_od3NAC"
      }
    },
    {
      "cell_type": "code",
      "source": [
        "target_distribution = df['Test Results'].value_counts().reset_index()\n",
        "target_distribution.columns = ['Test Results', 'Count']\n",
        "target_distribution['Percentage (%)'] = round(target_distribution['Count'] / len(df) * 100, 2)\n",
        "\n",
        "print(\"\\nDistribution of Test Results:\")\n",
        "display(target_distribution)"
      ],
      "metadata": {
        "colab": {
          "base_uri": "https://localhost:8080/",
          "height": 178
        },
        "id": "PKsGFJQa3NjF",
        "outputId": "bcd87629-0bfa-4aee-a4ef-246c914db354"
      },
      "execution_count": 32,
      "outputs": [
        {
          "output_type": "stream",
          "name": "stdout",
          "text": [
            "\n",
            "Distribution of Test Results:\n"
          ]
        },
        {
          "output_type": "display_data",
          "data": {
            "text/plain": [
              "   Test Results  Count  Percentage (%)\n",
              "0      Abnormal  18627           33.56\n",
              "1        Normal  18517           33.36\n",
              "2  Inconclusive  18356           33.07"
            ],
            "text/html": [
              "\n",
              "  <div id=\"df-03e2f637-a1f9-4758-832f-66bfd03c1d28\" class=\"colab-df-container\">\n",
              "    <div>\n",
              "<style scoped>\n",
              "    .dataframe tbody tr th:only-of-type {\n",
              "        vertical-align: middle;\n",
              "    }\n",
              "\n",
              "    .dataframe tbody tr th {\n",
              "        vertical-align: top;\n",
              "    }\n",
              "\n",
              "    .dataframe thead th {\n",
              "        text-align: right;\n",
              "    }\n",
              "</style>\n",
              "<table border=\"1\" class=\"dataframe\">\n",
              "  <thead>\n",
              "    <tr style=\"text-align: right;\">\n",
              "      <th></th>\n",
              "      <th>Test Results</th>\n",
              "      <th>Count</th>\n",
              "      <th>Percentage (%)</th>\n",
              "    </tr>\n",
              "  </thead>\n",
              "  <tbody>\n",
              "    <tr>\n",
              "      <th>0</th>\n",
              "      <td>Abnormal</td>\n",
              "      <td>18627</td>\n",
              "      <td>33.56</td>\n",
              "    </tr>\n",
              "    <tr>\n",
              "      <th>1</th>\n",
              "      <td>Normal</td>\n",
              "      <td>18517</td>\n",
              "      <td>33.36</td>\n",
              "    </tr>\n",
              "    <tr>\n",
              "      <th>2</th>\n",
              "      <td>Inconclusive</td>\n",
              "      <td>18356</td>\n",
              "      <td>33.07</td>\n",
              "    </tr>\n",
              "  </tbody>\n",
              "</table>\n",
              "</div>\n",
              "    <div class=\"colab-df-buttons\">\n",
              "      \n",
              "  <div class=\"colab-df-container\">\n",
              "    <button class=\"colab-df-convert\" onclick=\"convertToInteractive('df-03e2f637-a1f9-4758-832f-66bfd03c1d28')\"\n",
              "            title=\"Convert this dataframe to an interactive table.\"\n",
              "            style=\"display:none;\">\n",
              "      \n",
              "  <svg xmlns=\"http://www.w3.org/2000/svg\" height=\"24px\" viewBox=\"0 -960 960 960\">\n",
              "    <path d=\"M120-120v-720h720v720H120Zm60-500h600v-160H180v160Zm220 220h160v-160H400v160Zm0 220h160v-160H400v160ZM180-400h160v-160H180v160Zm440 0h160v-160H620v160ZM180-180h160v-160H180v160Zm440 0h160v-160H620v160Z\"/>\n",
              "  </svg>\n",
              "    </button>\n",
              "    \n",
              "  <style>\n",
              "    .colab-df-container {\n",
              "      display:flex;\n",
              "      gap: 12px;\n",
              "    }\n",
              "\n",
              "    .colab-df-convert {\n",
              "      background-color: #E8F0FE;\n",
              "      border: none;\n",
              "      border-radius: 50%;\n",
              "      cursor: pointer;\n",
              "      display: none;\n",
              "      fill: #1967D2;\n",
              "      height: 32px;\n",
              "      padding: 0 0 0 0;\n",
              "      width: 32px;\n",
              "    }\n",
              "\n",
              "    .colab-df-convert:hover {\n",
              "      background-color: #E2EBFA;\n",
              "      box-shadow: 0px 1px 2px rgba(60, 64, 67, 0.3), 0px 1px 3px 1px rgba(60, 64, 67, 0.15);\n",
              "      fill: #174EA6;\n",
              "    }\n",
              "\n",
              "    .colab-df-buttons div {\n",
              "      margin-bottom: 4px;\n",
              "    }\n",
              "\n",
              "    [theme=dark] .colab-df-convert {\n",
              "      background-color: #3B4455;\n",
              "      fill: #D2E3FC;\n",
              "    }\n",
              "\n",
              "    [theme=dark] .colab-df-convert:hover {\n",
              "      background-color: #434B5C;\n",
              "      box-shadow: 0px 1px 3px 1px rgba(0, 0, 0, 0.15);\n",
              "      filter: drop-shadow(0px 1px 2px rgba(0, 0, 0, 0.3));\n",
              "      fill: #FFFFFF;\n",
              "    }\n",
              "  </style>\n",
              "\n",
              "    <script>\n",
              "      const buttonEl =\n",
              "        document.querySelector('#df-03e2f637-a1f9-4758-832f-66bfd03c1d28 button.colab-df-convert');\n",
              "      buttonEl.style.display =\n",
              "        google.colab.kernel.accessAllowed ? 'block' : 'none';\n",
              "\n",
              "      async function convertToInteractive(key) {\n",
              "        const element = document.querySelector('#df-03e2f637-a1f9-4758-832f-66bfd03c1d28');\n",
              "        const dataTable =\n",
              "          await google.colab.kernel.invokeFunction('convertToInteractive',\n",
              "                                                    [key], {});\n",
              "        if (!dataTable) return;\n",
              "\n",
              "        const docLinkHtml = 'Like what you see? Visit the ' +\n",
              "          '<a target=\"_blank\" href=https://colab.research.google.com/notebooks/data_table.ipynb>data table notebook</a>'\n",
              "          + ' to learn more about interactive tables.';\n",
              "        element.innerHTML = '';\n",
              "        dataTable['output_type'] = 'display_data';\n",
              "        await google.colab.output.renderOutput(dataTable, element);\n",
              "        const docLink = document.createElement('div');\n",
              "        docLink.innerHTML = docLinkHtml;\n",
              "        element.appendChild(docLink);\n",
              "      }\n",
              "    </script>\n",
              "  </div>\n",
              "  \n",
              "    </div>\n",
              "  </div>\n",
              "  "
            ]
          },
          "metadata": {}
        }
      ]
    },
    {
      "cell_type": "markdown",
      "source": [
        "Create a pie plot to visualize the distribution of the target variable"
      ],
      "metadata": {
        "id": "M6slANYr4Nlh"
      }
    },
    {
      "cell_type": "code",
      "metadata": {
        "colab": {
          "base_uri": "https://localhost:8080/",
          "height": 609
        },
        "id": "6a23b9f7",
        "outputId": "f038d34d-b4b2-4d70-f1b8-7eeaaf6af30f"
      },
      "source": [
        "plt.figure(figsize=(8, 8))\n",
        "plt.pie(target_distribution['Count'], labels=target_distribution['Test Results'], autopct='%1.1f%%', startangle=90, colors=sns.color_palette('viridis', len(target_distribution)))\n",
        "plt.title('Distribution of Test Results (Percentage)')\n",
        "plt.axis('equal') # Equal aspect ratio ensures that pie is drawn as a circle.\n",
        "plt.show()"
      ],
      "execution_count": 33,
      "outputs": [
        {
          "output_type": "display_data",
          "data": {
            "text/plain": [
              "<Figure size 800x800 with 1 Axes>"
            ],
            "image/png": "[encoded data removed]"
          },
          "metadata": {}
        }
      ]
    },
    {
      "cell_type": "markdown",
      "source": [
        "### **2.2. Univariate Analysis**"
      ],
      "metadata": {
        "id": "Jsm0HBhe0qOh"
      }
    },
    {
      "cell_type": "markdown",
      "source": [
        "Analyze the distribution of numerical features (Age, Billing Amount)"
      ],
      "metadata": {
        "id": "xpv5vESJ0skf"
      }
    },
    {
      "cell_type": "code",
      "source": [
        "numerical_features = ['Age', 'Billing Amount']\n",
        "for col in numerical_features:\n",
        "  df[col].hist(figsize=(8, 5), bins=30)\n",
        "  plt.title(f'Distribution of {col}', y=1.02)\n",
        "  plt.tight_layout()\n",
        "  plt.show()"
      ],
      "metadata": {
        "colab": {
          "base_uri": "https://localhost:8080/",
          "height": 797
        },
        "id": "paL6MI0D0tYw",
        "outputId": "cc85530e-474e-4762-cf06-60ff9c63f914"
      },
      "execution_count": 34,
      "outputs": [
        {
          "output_type": "display_data",
          "data": {
            "text/plain": [
              "<Figure size 800x500 with 1 Axes>"
            ],
            "image/png": "[encoded data removed]"
          },
          "metadata": {}
        },
        {
          "output_type": "display_data",
          "data": {
            "text/plain": [
              "<Figure size 800x500 with 1 Axes>"
            ],
            "image/png": "[encoded data removed]"
          },
          "metadata": {}
        }
      ]
    },
    {
      "cell_type": "markdown",
      "source": [
        "Analyze the distribution of key categorical features"
      ],
      "metadata": {
        "id": "2gTUm4q15Ylt"
      }
    },
    {
      "cell_type": "code",
      "metadata": {
        "colab": {
          "base_uri": "https://localhost:8080/",
          "height": 1000
        },
        "id": "0e9cf849",
        "outputId": "208a4ace-6358-48a1-887f-ac577e4a5ac4"
      },
      "source": [
        "# Analyze the distribution of all relevant categorical features\n",
        "# Exclude 'Test Results' as it's the target variable analyzed separately\n",
        "# Exclude columns identified as irrelevant in Part 3 ('Name', 'Doctor', 'Hospital')\n",
        "# Exclude date columns which were engineered into 'Length of Stay'\n",
        "all_categorical_cols = df.select_dtypes(include='object').columns.tolist()\n",
        "relevant_categorical_features = [col for col in all_categorical_cols if col not in ['Test Results', 'Name', 'Doctor', 'Hospital', 'Date of Admission', 'Discharge Date']]\n",
        "\n",
        "# Plot distribution for each relevant categorical feature individually\n",
        "for col in relevant_categorical_features:\n",
        "    plt.figure(figsize=(10, 6)) # Adjust figure size for individual plots\n",
        "    sns.countplot(data=df, y=col, palette='viridis', order=df[col].value_counts().index) # Order by count\n",
        "    plt.title(f'Distribution of {col}')\n",
        "    plt.xlabel('Count')\n",
        "    plt.ylabel(col)\n",
        "    plt.show()"
      ],
      "execution_count": 36,
      "outputs": [
        {
          "output_type": "stream",
          "name": "stderr",
          "text": [
            "/tmp/ipython-input-3154795450.py:11: FutureWarning: \n",
            "\n",
            "Passing `palette` without assigning `hue` is deprecated and will be removed in v0.14.0. Assign the `y` variable to `hue` and set `legend=False` for the same effect.\n",
            "\n",
            "  sns.countplot(data=df, y=col, palette='viridis', order=df[col].value_counts().index) # Order by count\n"
          ]
        },
        {
          "output_type": "display_data",
          "data": {
            "text/plain": [
              "<Figure size 1000x600 with 1 Axes>"
            ],
            "image/png": "[encoded data removed]"
          },
          "metadata": {}
        },
        {
          "output_type": "stream",
          "name": "stderr",
          "text": [
            "/tmp/ipython-input-3154795450.py:11: FutureWarning: \n",
            "\n",
            "Passing `palette` without assigning `hue` is deprecated and will be removed in v0.14.0. Assign the `y` variable to `hue` and set `legend=False` for the same effect.\n",
            "\n",
            "  sns.countplot(data=df, y=col, palette='viridis', order=df[col].value_counts().index) # Order by count\n"
          ]
        },
        {
          "output_type": "display_data",
          "data": {
            "text/plain": [
              "<Figure size 1000x600 with 1 Axes>"
            ],
            "image/png": "[encoded data removed]"
          },
          "metadata": {}
        },
        {
          "output_type": "stream",
          "name": "stderr",
          "text": [
            "/tmp/ipython-input-3154795450.py:11: FutureWarning: \n",
            "\n",
            "Passing `palette` without assigning `hue` is deprecated and will be removed in v0.14.0. Assign the `y` variable to `hue` and set `legend=False` for the same effect.\n",
            "\n",
            "  sns.countplot(data=df, y=col, palette='viridis', order=df[col].value_counts().index) # Order by count\n"
          ]
        },
        {
          "output_type": "display_data",
          "data": {
            "text/plain": [
              "<Figure size 1000x600 with 1 Axes>"
            ],
            "image/png": "[encoded data removed]"
          },
          "metadata": {}
        },
        {
          "output_type": "stream",
          "name": "stderr",
          "text": [
            "/tmp/ipython-input-3154795450.py:11: FutureWarning: \n",
            "\n",
            "Passing `palette` without assigning `hue` is deprecated and will be removed in v0.14.0. Assign the `y` variable to `hue` and set `legend=False` for the same effect.\n",
            "\n",
            "  sns.countplot(data=df, y=col, palette='viridis', order=df[col].value_counts().index) # Order by count\n"
          ]
        },
        {
          "output_type": "display_data",
          "data": {
            "text/plain": [
              "<Figure size 1000x600 with 1 Axes>"
            ],
            "image/png": "[encoded data removed]"
          },
          "metadata": {}
        },
        {
          "output_type": "stream",
          "name": "stderr",
          "text": [
            "/tmp/ipython-input-3154795450.py:11: FutureWarning: \n",
            "\n",
            "Passing `palette` without assigning `hue` is deprecated and will be removed in v0.14.0. Assign the `y` variable to `hue` and set `legend=False` for the same effect.\n",
            "\n",
            "  sns.countplot(data=df, y=col, palette='viridis', order=df[col].value_counts().index) # Order by count\n"
          ]
        },
        {
          "output_type": "display_data",
          "data": {
            "text/plain": [
              "<Figure size 1000x600 with 1 Axes>"
            ],
            "image/png": "[encoded data removed]"
          },
          "metadata": {}
        },
        {
          "output_type": "stream",
          "name": "stderr",
          "text": [
            "/tmp/ipython-input-3154795450.py:11: FutureWarning: \n",
            "\n",
            "Passing `palette` without assigning `hue` is deprecated and will be removed in v0.14.0. Assign the `y` variable to `hue` and set `legend=False` for the same effect.\n",
            "\n",
            "  sns.countplot(data=df, y=col, palette='viridis', order=df[col].value_counts().index) # Order by count\n"
          ]
        },
        {
          "output_type": "display_data",
          "data": {
            "text/plain": [
              "<Figure size 1000x600 with 1 Axes>"
            ],
            "image/png": "[encoded data removed]"
          },
          "metadata": {}
        }
      ]
    },
    {
      "cell_type": "code",
      "metadata": {
        "id": "2953dee7"
      },
      "source": [
        "# 2.3. Bivariate Analysis\n",
        "\n",
        "# Analyze the relationship between 'Medical Condition' and 'Test Results'\n",
        "plt.figure(figsize=(12, 7))\n",
        "sns.countplot(data=df, y='Medical Condition', hue='Test Results', palette='viridis')\n",
        "plt.title('Test Results by Medical Condition')\n",
        "plt.xlabel('Count')\n",
        "plt.ylabel('Medical Condition')\n",
        "plt.show()\n",
        "\n",
        "# Analyze the relationship between 'Age' and 'Test Results' using a boxplot\n",
        "plt.figure(figsize=(10, 6))\n",
        "sns.boxplot(data=df, x='Test Results', y='Age', palette='viridis')\n",
        "plt.title('Age vs. Test Results')\n",
        "plt.xlabel('Test Results')\n",
        "plt.ylabel('Age')\n",
        "plt.show()\n",
        "\n",
        "# Create a heatmap to visualize the correlation matrix of numerical features\n",
        "plt.figure(figsize=(8, 6))\n",
        "correlation_matrix = df[numerical_features].corr()\n",
        "sns.heatmap(correlation_matrix, annot=True, cmap='coolwarm', fmt=\".2f\")\n",
        "plt.title('Correlation Heatmap of Numerical Features')\n",
        "plt.show()"
      ],
      "execution_count": null,
      "outputs": []
    }
  ]
}